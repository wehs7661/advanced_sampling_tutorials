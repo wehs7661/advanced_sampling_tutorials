{
 "cells": [
  {
   "cell_type": "markdown",
   "id": "3ff67ff4",
   "metadata": {},
   "source": [
    "# Chapter 1: Umbrella sampling"
   ]
  },
  {
   "cell_type": "markdown",
   "id": "bce08810",
   "metadata": {
    "slideshow": {
     "slide_type": "-"
    }
   },
   "source": [
    "#### Author\n",
    "Wei-Tse Hsu\n",
    "- University of Colorado Boulder\n",
    "- www.weitsehsu.com\n",
    "- wehs7661@colorado.edu\n",
    "- [@WeiTseHsu](https://twitter.com/WeiTseHsu)\n",
    "\n",
    "If you're interested, check my personal website for more future posts/tutorials about advanced sampling methods!"
   ]
  },
  {
   "cell_type": "markdown",
   "id": "575f409c",
   "metadata": {
    "slideshow": {
     "slide_type": "-"
    }
   },
   "source": [
    "## Tutorial 1: 1D umbrella sampling"
   ]
  },
  {
   "cell_type": "markdown",
   "id": "d7a63543",
   "metadata": {
    "slideshow": {
     "slide_type": "-"
    }
   },
   "source": [
    "In this exercise, our goal is to perform umbrella sampling for NaCl to compute its free energy as a function of the ion-pair distance, which is an intuitive CV relevant to the dissociation process of NaCl. Umbrella sampling is composed of the following 2 steps that we will elaborate later:\n",
    "\n",
    "- **Step 1**: A pulling simulation (a.k.a steered MD) for generating initial configurations for the production runs.\n",
    "- **Step 2**: Production runs that fix the configurations with harmonic potentials.\n",
    "\n",
    "For more details about the theory of umbrella sampling, please visit the [article](https://weitsehsu.com/course/advanced_sampling/us/) accompanying this tuturial."
   ]
  },
  {
   "cell_type": "markdown",
   "id": "16e5dc57",
   "metadata": {},
   "source": [
    "### 1. Setting things up\n",
    "In the folder `Systems/NaCl` in the course repository, you can find simulation inputs that we need for this tutorial, though some may need some modifications. Files required for this exercise include `NaCl.gro`, `NaCl.top`, and `MD_NVT.mdp`. For more details about these, files, please visit the [README file](https://github.com/wehs7661/advanced_sampling_tutorials/tree/master/Systems#nacl-system) for the system. To get started, we remove the output folders/files of the exercise with the following bash commands, if any:"
   ]
  },
  {
   "cell_type": "code",
   "execution_count": 1,
   "id": "7667e436",
   "metadata": {
    "slideshow": {
     "slide_type": "-"
    }
   },
   "outputs": [],
   "source": [
    "%%bash\n",
    "dirs=(sim_* pull *mdp *dat)\n",
    "for dir in \"${dirs[@]}\"; do\n",
    "    if ls -d \"$dir\" >/dev/null 2>&1; then\n",
    "        rm -rf \"$dir\"\n",
    "    fi\n",
    "done"
   ]
  },
  {
   "cell_type": "markdown",
   "id": "bb33f28b",
   "metadata": {
    "slideshow": {
     "slide_type": "-"
    }
   },
   "source": [
    "## 1. Pulling simulation\n",
    "As a reminder, the purpose of a pulling simulation is to generate configurations with different values of CV (the ion-pair distance). The generated configurations will be used as the initial configurations in the subsequent production simulation. In a pulling simulations, we need to make the following two decisions:\n",
    "\n",
    "- **Defining the pull groups**: The pull groups are groups of atom(s) we exert the pulling force between. Here, we define the sodium and chloride ions as the pull groups. In GROMACS, this setup can be done by adding **pull codes** to the `.mdp` file, as we will elaborate later.\n",
    "- **Choosing the immobile group**: To make the pulling process more efficient, it is recommended to applying a position restraint to one of the pull groups. In our case, we will choose to fix the position of the sodium ion, but fixing the chloride ion should not make a difference in the resulting free energy profile. As we will see in later, the application of the position restraint can be done by modifying the `.top` file.\n",
    "\n",
    "Here, we first create a folder `pull` specifically for the pulling simulation, and copy over `NaCl.gro` from the folder `Systems/NaCl`:"
   ]
  },
  {
   "cell_type": "code",
   "execution_count": 2,
   "id": "113c7948",
   "metadata": {
    "slideshow": {
     "slide_type": "-"
    }
   },
   "outputs": [],
   "source": [
    "%%bash\n",
    "mkdir pull"
   ]
  },
  {
   "cell_type": "markdown",
   "id": "7e8ef4f4",
   "metadata": {},
   "source": [
    "In the following subsections, we modify the `.top` file and the `.mdp` file to apply a position restraint and the pull code, respectively."
   ]
  },
  {
   "cell_type": "markdown",
   "id": "e62bab00",
   "metadata": {
    "slideshow": {
     "slide_type": "-"
    }
   },
   "source": [
    "## 1-1. Modification of the `top` file"
   ]
  },
  {
   "cell_type": "markdown",
   "id": "35ce700d",
   "metadata": {},
   "source": [
    "The `.top` file we have in `Systems/NaCl`, `NaCl.top`, is for standard MD simulations, which has the following content:"
   ]
  },
  {
   "cell_type": "code",
   "execution_count": 3,
   "id": "fe705ec7",
   "metadata": {
    "scrolled": true,
    "slideshow": {
     "slide_type": "-"
    }
   },
   "outputs": [
    {
     "name": "stdout",
     "output_type": "stream",
     "text": [
      "#include \"oplsaa.ff/forcefield.itp\"\n",
      "#include \"oplsaa.ff/tip3p.itp\"\n",
      "\n",
      "[ moleculetype ]\n",
      "; molname   nrexcl\n",
      "CL      1\n",
      "\n",
      "[ atoms ]\n",
      "; id    at type     res nr  residu name at name  cg nr  charge   mass\n",
      "1       opls_401    1       CL          CL       1      -1       35.45300\n",
      "\n",
      "[ moleculetype ]\n",
      "; molname   nrexcl\n",
      "NA          1\n",
      "\n",
      "[ atoms ]\n",
      "; id    at type     res nr  residu name at name  cg nr  charge   mass\n",
      "1       opls_407    1       NA          NA       1      1        22.98977\n",
      "\n",
      "[ System ]\n",
      "NaCl in water\n",
      "\n",
      "[ Molecules ]\n",
      "SOL         107\n",
      "NA               1\n",
      "CL               1\n"
     ]
    }
   ],
   "source": [
    "%%bash\n",
    "cat ../Systems/NaCl/NaCl.top"
   ]
  },
  {
   "cell_type": "markdown",
   "id": "37f9141b",
   "metadata": {
    "slideshow": {
     "slide_type": "-"
    }
   },
   "source": [
    "To apply a position restraint, one needs to add the following lines before the `[ System ]` directive:\n",
    "\n",
    "```\n",
    "; position restraints for Na\n",
    "# ifdef POSRES_NA\n",
    "# include \"Na_posres.itp\"\n",
    "# endif\n",
    "```"
   ]
  },
  {
   "cell_type": "code",
   "execution_count": 4,
   "id": "5a0ec250",
   "metadata": {
    "slideshow": {
     "slide_type": "-"
    }
   },
   "outputs": [],
   "source": [
    "%%bash \n",
    "echo '#include \"oplsaa.ff/forcefield.itp\"\n",
    "#include \"oplsaa.ff/tip3p.itp\"\n",
    "\n",
    "[ moleculetype ]\n",
    "; molname   nrexcl\n",
    "CL      1\n",
    "\n",
    "[ atoms ]\n",
    "; id    at type     res nr  residu name at name  cg nr  charge   mass\n",
    "1       opls_401    1       CL          CL       1      -1       35.45300\n",
    "\n",
    "[ moleculetype ]\n",
    "; molname   nrexcl\n",
    "NA          1\n",
    "\n",
    "[ atoms ]\n",
    "; id    at type     res nr  residu name at name  cg nr  charge   mass\n",
    "1       opls_407    1       NA          NA       1      1        22.98977\n",
    "\n",
    "; position restraints for Na\n",
    "# ifdef POSRES_NA\n",
    "# include \"Na_posres.itp\"\n",
    "# endif\n",
    "\n",
    "[ System ]\n",
    "NaCl in water\n",
    "\n",
    "[ Molecules ]\n",
    "SOL         107\n",
    "NA               1\n",
    "CL               1' > pull/NaCl_US.top"
   ]
  },
  {
   "cell_type": "markdown",
   "id": "1f00b928",
   "metadata": {
    "slideshow": {
     "slide_type": "-"
    }
   },
   "source": [
    "These lines mean that if the variable `POSRES_NA` is defined in the `.mdp` file for the pulling simulation, the position restraint defined in the file `Na_posres.itp` will be activated. The `.itp` file `Na_posres.itp` can be generated and saved in the folder `pull` by the Bash commands below. (For more details about GROMACS `.itp` file and the `ifdef` statments, please refer to the GROMACS [reference manual](https://manual.gromacs.org/current/reference-manual/topologies/topology-file-formats.html#molecule-itp-file).)"
   ]
  },
  {
   "cell_type": "code",
   "execution_count": 5,
   "id": "98c421b6",
   "metadata": {
    "slideshow": {
     "slide_type": "-"
    }
   },
   "outputs": [],
   "source": [
    "%%bash \n",
    "cp ../Systems/NaCl/NaCl.gro pull/.    # copy over the gro file by the way\n",
    "echo '[ position_restraints ]\n",
    ";  i funct       fcx        fcy        fcz\n",
    "   1    1       1000       1000       1000' > pull/Na_posres.itp"
   ]
  },
  {
   "cell_type": "markdown",
   "id": "2ff1ee60",
   "metadata": {},
   "source": [
    "Here are more details about the columns in the `[ position_restraints ]` directive:\n",
    "- `i`: The index of the atom (in the `[ moleculetype ]` directive) to which the position restraint is applied. Note that the `[ position_restraint ]` directive is under the `[ moleculetype ]` directive, so even if the index of the sodium ion in `NaCl.gro` is 322, it is the first (and only) atom in the `[ moleculetype ]` that corresponds to `NA`, so we specify the value of `i` as 1 (instead of 322) here.\n",
    "- `funct`: The function type of the restraint. Type `1` corresponds to a harmonic potential in the form of Equation \\ref{pr}.\n",
    "- `fcx`, `fcy`, and `fcz`: The force constants $k_{\\text{pr}, x}$, $k_{\\text{pr}, y}$, and $k_{\\text{pr}, z}$ in Equation \\ref{pr}, respectively, meausred in $\\mathrm{kJ/mol/nm^2}$. These constants define how strongly the atom is pulled back to its the reference position (the initial position) when it moves. The default of $1000 \\mathrm{kJ/mol/nm^2}$ should be sufficient in general."
   ]
  },
  {
   "cell_type": "markdown",
   "id": "16458e53",
   "metadata": {
    "slideshow": {
     "slide_type": "-"
    }
   },
   "source": [
    "Notably, in more complicated cases, such as pulling two chains of protein molecules apart, you may need to restrain not just one atom (as in our example here) but multiple ones, in which case the GROMACS `genrestr` command could be useful. For more details, please check the the supplementary note in the accompanying article. "
   ]
  },
  {
   "cell_type": "markdown",
   "id": "70b21745",
   "metadata": {
    "slideshow": {
     "slide_type": "-"
    }
   },
   "source": [
    "## 1-2. Modification of the `mdp` file"
   ]
  },
  {
   "cell_type": "markdown",
   "id": "fcd80f99",
   "metadata": {},
   "source": [
    "Here, we will create the `.mdp` file for the pulling simulation (saved in the folder `pull` as `NaCl_pull.mdp`) by modifying the `.mdp` template for standard molecular dynamics, `MD-NVT.mdp` in `Systems/NaCl`. The `.mdp` template has the following parameters:"
   ]
  },
  {
   "cell_type": "code",
   "execution_count": 6,
   "id": "72d1a827",
   "metadata": {
    "scrolled": false,
    "slideshow": {
     "slide_type": "-"
    }
   },
   "outputs": [
    {
     "name": "stdout",
     "output_type": "stream",
     "text": [
      "integrator = md \n",
      "dt = 0.002\n",
      "nsteps = 250000\n",
      "cutoff-scheme = Verlet\n",
      "coulombtype = PME\n",
      "rlist = 0.6\n",
      "rcoulomb = 0.6\n",
      "rvdw = 0.6\n",
      "constraints = h-bonds\n",
      "tcoupl =  V-rescale\n",
      "ref_t = 300\n",
      "tau-t = 1.0\n",
      "tc-grps = System\n",
      "gen-vel = yes\n",
      "gen-temp = 300\n",
      "gen-seed = -1 \n",
      "DispCorr = AllEnerPres\n",
      "nstxout-compressed = 50\n",
      "nstxout = 50000\n",
      "nstvout = 50000\n"
     ]
    }
   ],
   "source": [
    "%%bash\n",
    "cat ../Systems/NaCl/MD-NVT.mdp  # the original MDP file"
   ]
  },
  {
   "cell_type": "markdown",
   "id": "469ea527",
   "metadata": {
    "slideshow": {
     "slide_type": "-"
    }
   },
   "source": [
    "Note that here we adopt smaller cutoffs than usual for the neighbor list (`rlist`) and for the interactions (`rcoulomb` and `rvdw`) just so that we can use a smaller simulation box for the system, which makes this example simulation affordable even on a laptop. We set the simulation length as 250 ps, which should be sufficient for our case. In addition, the simulation will be performed in the NVT ensemble.\n",
    "\n",
    "To suit the need of running a pulling simulation, we first need to define `POSRES_NA` in the `.mdp` file so te position restraint is activated. This can be done by adding the following line to the `.mdp` file.\n",
    "```\n",
    "define=-DPOSRES_NA\n",
    "```"
   ]
  },
  {
   "cell_type": "code",
   "execution_count": 7,
   "id": "70eeb77f",
   "metadata": {
    "slideshow": {
     "slide_type": "-"
    }
   },
   "outputs": [],
   "source": [
    "%%bash\n",
    "echo 'define=-DPOSRES_NA\n",
    "integrator = md \n",
    "dt = 0.002\n",
    "nsteps = 125000\n",
    "cutoff-scheme = Verlet\n",
    "coulombtype = PME\n",
    "rlist = 0.6\n",
    "rcoulomb = 0.6\n",
    "rvdw = 0.6\n",
    "constraints = h-bonds\n",
    "tcoupl =  V-rescale\n",
    "ref_t = 300\n",
    "tau-t = 1.0\n",
    "tc-grps = System\n",
    "gen-vel = yes\n",
    "gen-temp = 300\n",
    "gen-seed = -1 \n",
    "compressibility = 4.5e-5\n",
    "nstxout-compressed = 50\n",
    "nstxout = 50000\n",
    "nstvout = 50000\n",
    "' > pull/NaCl_pull.mdp\n",
    "# Here we create an mdp file starting with `define=-DPOSRES_NA`"
   ]
  },
  {
   "cell_type": "markdown",
   "id": "524a1719",
   "metadata": {
    "slideshow": {
     "slide_type": "-"
    }
   },
   "source": [
    "Then, to pull the chloride ion away, we need to add the following pull code to the `.mdp` file:"
   ]
  },
  {
   "cell_type": "code",
   "execution_count": 8,
   "id": "2061d3b5",
   "metadata": {
    "slideshow": {
     "slide_type": "-"
    }
   },
   "outputs": [],
   "source": [
    "%%bash\n",
    "echo '; Pull code\n",
    "pull = yes                        ; Activate the pull code\n",
    "pull-ncoords = 1                  ; Here we only have 1 CV.\n",
    "pull-ngroups = 2                  ; We have 2 pull groups\n",
    "pull-group1-name = NA             ; index 1\n",
    "pull-group2-name = CL             ; index 2\n",
    "pull-coord1-groups = 1 2          ; groups with indices 1 (NA) and 2 (CL) are involved\n",
    "pull-coord1-type = umbrella       ; The umbrella potential (i.e., harmonic potential) is used.\n",
    "pull-coord1-geometry = distance   ; Increase the distance between the pull groups\n",
    "pull-coord1-dim = Y Y Y           ; We allow pulling from any directions.\n",
    "pull-coord1-start = yes           ; The harmonic potential is centered at the initial COM distance. \n",
    "pull-coord1-rate = 0.0010         ; 0.0010 nm/ps -> pull distance in the 250 ps-simulation: 0.25 nm.\n",
    "pull-coord1-k = 1000              ; units: kJ/mol/nm^2' >> pull/NaCl_pull.mdp"
   ]
  },
  {
   "cell_type": "markdown",
   "id": "330f9c51",
   "metadata": {
    "slideshow": {
     "slide_type": "-"
    }
   },
   "source": [
    "As shown above, parameters in the code block come with simple explanations. Below are some additional explanations for some of the parameters:\n",
    "- `pull-coord1-rate`: The rate at which the imaginary spring attached between the ions is elongated. Importantly, the pull distance must not exceed 0.7248 nm, which is half of the smallest dimension of the simulation box. (As can be checked in `pull/NaCl.gro`, the simulation box we use is a cubic box with a side length of 1.48561 nm.) This is to prevent the pull group from interacting with the periodic image of the system. Given that the typical ion-pair distance of NaCl is 0.265 nm, a total pull distnace of 0.25 nm should be safe.\n",
    "- `pull-coord1-k`: The force constant does not really matter in the pulling simulation as long as it is large enough to pull the pull groups apart. \n",
    "\n",
    "For other possible options/parameters for pulling, please refer to GROMACS [reference manual](https://manual.gromacs.org/documentation/current/user-guide/mdp-options.html#com-pulling)."
   ]
  },
  {
   "cell_type": "markdown",
   "id": "2b44a6c3",
   "metadata": {
    "slideshow": {
     "slide_type": "-"
    }
   },
   "source": [
    "## 1-3. Running a pulling simulation"
   ]
  },
  {
   "cell_type": "markdown",
   "id": "dcd27988",
   "metadata": {
    "slideshow": {
     "slide_type": "-"
    }
   },
   "source": [
    "With all the input files prepared in the `pull` folder (including `NaCl.gro`, `NaCl.top`, and `NaCl_pull.mdp`), we can finally run the pulling simulation. Note that depending on the version of GROMACS you are using, you might need a different `grompp` command."
   ]
  },
  {
   "cell_type": "markdown",
   "id": "17356269",
   "metadata": {},
   "source": [
    "### Versions earlier than 2022\n",
    "Simply execute the following command should be fine:\n",
    "  ```bash\n",
    "  mpirun -np 1 gmx_mpi grompp -f pull/NaCl_pull.mdp -c pull/NaCl.gro -r pull/NaCl.gro -p pull/NaCl_US.top -o pull/pull.tpr -po pull/mdout.mdp -maxwarn 1\n",
    "  mpirun -np 1 gmx_mpi mdrun -deffnm pull/pull -pf pull/pullf.xvg -px pull/pullx.xvg -ntomp 1\n",
    "  ```"
   ]
  },
  {
   "cell_type": "markdown",
   "id": "e3965db4",
   "metadata": {},
   "source": [
    "### Versions later than 2022\n",
    "Here we are using GROMACS 2022.5, in which case the `grompp` command above might fail with the following error:\n",
    "  ```\n",
    "  Fatal error:\n",
    "  Group NA referenced in the .mdp file was not found in the index file.\n",
    "  Group names must match either [moleculetype] names or custom index group\n",
    "  names, in which case you must supply an index file to the '-n' option\n",
    "  of grompp.\n",
    "  ```\n",
    "  To resolve this, we need to create an index file where both the groups `NA` and `CL` referenced by `pull-group1-name` and `pull-group2-name` in the `.mdp` file are availble, then pass the index file to the `grompp` command. To do this, execut the following command:"
   ]
  },
  {
   "cell_type": "code",
   "execution_count": 9,
   "id": "60a94b54",
   "metadata": {},
   "outputs": [
    {
     "name": "stdout",
     "output_type": "stream",
     "text": [
      "Going to read 0 old index file(s)\n",
      "Analysing residue names:\n",
      "There are:   107      Water residues\n",
      "There are:     2        Ion residues\n",
      "\n",
      "  0 System              :   323 atoms\n",
      "  1 Water               :   321 atoms\n",
      "  2 SOL                 :   321 atoms\n",
      "  3 non-Water           :     2 atoms\n",
      "  4 Ion                 :     2 atoms\n",
      "  5 Water_and_ions      :   323 atoms\n",
      "\n",
      " nr : group      '!': not  'name' nr name   'splitch' nr    Enter: list groups\n",
      " 'a': atom       '&': and  'del' nr         'splitres' nr   'l': list residues\n",
      " 't': atom type  '|': or   'keep' nr        'splitat' nr    'h': help\n",
      " 'r': residue              'res' nr         'chain' char\n",
      " \"name\": group             'case': case sensitive           'q': save and quit\n",
      " 'ri': residue index\n",
      "\n",
      "> \n",
      "\n",
      "  6 a_322               :     1 atoms\n",
      "\n",
      "> \n",
      "\n",
      "> \n",
      "\n",
      "  7 a_323               :     1 atoms\n",
      "\n",
      "> \n",
      "\n",
      "> \n"
     ]
    },
    {
     "name": "stderr",
     "output_type": "stream",
     "text": [
      "         :-) GROMACS - gmx make_ndx, 2022.5-dev-20230428-fdf57150ad (-:\n",
      "\n",
      "Executable:   /Users/Wei-TseHsu/pkgs/gromacs/2022.5_mpi/bin/gmx_mpi\n",
      "Data prefix:  /Users/Wei-TseHsu/pkgs/gromacs/2022.5_mpi\n",
      "Working dir:  /Users/Wei-TseHsu/Documents/Life_in_CU_Bouler/Research_in_Shirts_Lab/advanced_sampling_tutorials/Chapter_1\n",
      "Command line:\n",
      "  gmx_mpi make_ndx -f pull/NaCl.gro -o pull/NaCl.ndx\n",
      "\n",
      "\n",
      "Reading structure file\n",
      "\n",
      "GROMACS reminds you: \"Lottery: A tax on people who are bad at math.\" (Ambrose Bierce)\n",
      "\n"
     ]
    }
   ],
   "source": [
    "%%bash\n",
    "source /Users/Wei-TseHsu/pkgs/gromacs/2022.5_mpi/bin/GMXRC  # You'll need to replace this with your path of GMXRC\n",
    "echo -e 'a 322\\nname 6 NA\\na323\\nname 7 CL\\nq' | mpirun -np 1 gmx_mpi make_ndx -f pull/NaCl.gro -o pull/NaCl.ndx"
   ]
  },
  {
   "cell_type": "code",
   "execution_count": 11,
   "id": "f5c4373f",
   "metadata": {
    "scrolled": true,
    "slideshow": {
     "slide_type": "-"
    }
   },
   "outputs": [
    {
     "name": "stdout",
     "output_type": "stream",
     "text": [
      "Setting the LD random seed to -201397251\n",
      "\n",
      "Generated 330891 of the 330891 non-bonded parameter combinations\n",
      "\n",
      "Generated 330891 of the 330891 1-4 parameter combinations\n",
      "\n",
      "Excluding 2 bonded neighbours molecule type 'SOL'\n",
      "\n",
      "turning H bonds into constraints...\n",
      "\n",
      "Excluding 1 bonded neighbours molecule type 'NA'\n",
      "\n",
      "turning H bonds into constraints...\n",
      "\n",
      "Excluding 1 bonded neighbours molecule type 'CL'\n",
      "\n",
      "turning H bonds into constraints...\n",
      "\n",
      "Setting gen_seed to -134218145\n",
      "\n",
      "Velocities were taken from a Maxwell distribution at 300 K\n",
      "\n",
      "The largest distance between excluded atoms is 0.152 nm\n",
      "\n",
      "Determining Verlet buffer for a tolerance of 0.005 kJ/mol/ps at 300 K\n",
      "\n",
      "Calculated rlist for 1x1 atom pair-list as 0.638 nm, buffer size 0.038 nm\n",
      "\n",
      "Set rlist, assuming 4x4 atom pair-list, to 0.607 nm, buffer size 0.007 nm\n",
      "\n",
      "Note that mdrun will redetermine rlist based on the actual pair-list setup\n",
      "Calculating fourier grid dimensions for X Y Z\n",
      "Using a fourier grid of 14x14x14, spacing 0.106 0.106 0.106\n",
      "\n",
      "Estimate for the relative computational load of the PME mesh part: 0.51\n",
      "\n",
      "This run will generate roughly 5 Mb of data\n"
     ]
    },
    {
     "name": "stderr",
     "output_type": "stream",
     "text": [
      "          :-) GROMACS - gmx grompp, 2022.5-dev-20230428-fdf57150ad (-:\n",
      "\n",
      "Executable:   /Users/Wei-TseHsu/pkgs/gromacs/2022.5_mpi/bin/gmx_mpi\n",
      "Data prefix:  /Users/Wei-TseHsu/pkgs/gromacs/2022.5_mpi\n",
      "Working dir:  /Users/Wei-TseHsu/Documents/Life_in_CU_Bouler/Research_in_Shirts_Lab/advanced_sampling_tutorials/Chapter_1\n",
      "Command line:\n",
      "  gmx_mpi grompp -f pull/NaCl_pull.mdp -c pull/NaCl.gro -r pull/NaCl.gro -p pull/NaCl_US.top -o pull/pull.tpr -po pull/mdout.mdp -n pull/NaCl.ndx -maxwarn 1\n",
      "\n",
      "Generating 1-4 interactions: fudge = 0.5\n",
      "Pull group 1 'NA' has 1 atoms\n",
      "Pull group 2 'CL' has 1 atoms\n",
      "Number of degrees of freedom in T-Coupling group System is 645.00\n",
      "\n",
      "NOTE 1 [file pull/NaCl_pull.mdp]:\n",
      "  Removing center of mass motion in the presence of position restraints\n",
      "  might cause artifacts. When you are using position restraints to\n",
      "  equilibrate a macro-molecule, the artifacts are usually negligible.\n",
      "\n",
      "Pull group  natoms  pbc atom  distance at start  reference at t=0\n",
      "       1         1         0\n",
      "       2         1         0       0.280 nm          0.280 nm\n",
      "\n",
      "NOTE 2 [file pull/NaCl_pull.mdp]:\n",
      "  The optimal PME mesh load for parallel simulations is below 0.5\n",
      "  and for highly parallel simulations between 0.25 and 0.33,\n",
      "  for higher performance, increase the cut-off and the PME grid spacing.\n",
      "\n",
      "\n",
      "\n",
      "There were 2 notes\n",
      "\n",
      "GROMACS reminds you: \"Don't Eat That Yellow Snow\" (F. Zappa)\n",
      "\n"
     ]
    },
    {
     "name": "stdout",
     "output_type": "stream",
     "text": [
      "CPU times: user 3.8 ms, sys: 6.05 ms, total: 9.85 ms\n",
      "Wall time: 567 ms\n"
     ]
    }
   ],
   "source": [
    "%%time\n",
    "%%bash\n",
    "source /Users/Wei-TseHsu/pkgs/gromacs/2022.5_mpi/bin/GMXRC  # You'll need to replace this with your path of GMXRC\n",
    "mpirun -np 1 gmx_mpi grompp -f pull/NaCl_pull.mdp -c pull/NaCl.gro -r pull/NaCl.gro -p pull/NaCl_US.top -o pull/pull.tpr -po pull/mdout.mdp -n pull/NaCl.ndx -maxwarn 1"
   ]
  },
  {
   "cell_type": "code",
   "execution_count": 12,
   "id": "8c9d0913",
   "metadata": {
    "slideshow": {
     "slide_type": "-"
    }
   },
   "outputs": [
    {
     "name": "stderr",
     "output_type": "stream",
     "text": [
      "          :-) GROMACS - gmx mdrun, 2022.5-dev-20230428-fdf57150ad (-:\n",
      "\n",
      "Executable:   /Users/Wei-TseHsu/pkgs/gromacs/2022.5_mpi/bin/gmx_mpi\n",
      "Data prefix:  /Users/Wei-TseHsu/pkgs/gromacs/2022.5_mpi\n",
      "Working dir:  /Users/Wei-TseHsu/Documents/Life_in_CU_Bouler/Research_in_Shirts_Lab/advanced_sampling_tutorials/Chapter_1\n",
      "Command line:\n",
      "  gmx_mpi mdrun -deffnm pull/pull -pf pull/pullf.xvg -px pull/pullx.xvg -ntomp 1\n",
      "\n",
      "Reading file pull/pull.tpr, VERSION 2022.5-dev-20230428-fdf57150ad (single precision)\n",
      "Changing nstlist from 10 to 25, rlist from 0.607 to 0.67\n",
      "\n",
      "Using 1 MPI process\n",
      "starting mdrun 'NaCl in water'\n",
      "125000 steps,    250.0 ps.\n",
      "\n",
      "Writing final coordinates.\n",
      "\n",
      "               Core t (s)   Wall t (s)        (%)\n",
      "       Time:       17.241       17.241      100.0\n",
      "                 (ns/day)    (hour/ns)\n",
      "Performance:     1252.802        0.019\n",
      "\n",
      "GROMACS reminds you: \"We All Get the Flu, We All Get Aids\" (LIVE)\n",
      "\n"
     ]
    },
    {
     "name": "stdout",
     "output_type": "stream",
     "text": [
      "CPU times: user 3.71 ms, sys: 6.21 ms, total: 9.92 ms\n",
      "Wall time: 17.5 s\n"
     ]
    }
   ],
   "source": [
    "%%time\n",
    "%%bash\n",
    "source /Users/Wei-TseHsu/pkgs/gromacs/2022.5_mpi/bin/GMXRC  # You'll need to replace this with your path of GMXRC\n",
    "mpirun -np 1 gmx_mpi mdrun -deffnm pull/pull -pf pull/pullf.xvg -px pull/pullx.xvg -ntomp 1"
   ]
  },
  {
   "cell_type": "markdown",
   "id": "014e3101",
   "metadata": {
    "slideshow": {
     "slide_type": "-"
    }
   },
   "source": [
    "Note that in both cases, the `-r` flag is required for the restraint. In addition, compared to a standard MD simulation, a pulling simulation has two additional output files: `pullf.xvg` and `pullx.xvg`, which document the time series of the pulling force and ion-pair distance."
   ]
  },
  {
   "cell_type": "markdown",
   "id": "a31d4c68",
   "metadata": {
    "slideshow": {
     "slide_type": "-"
    }
   },
   "source": [
    "## 1-4. Generation of the initial configurations"
   ]
  },
  {
   "cell_type": "markdown",
   "id": "475a7fec",
   "metadata": {
    "slideshow": {
     "slide_type": "-"
    }
   },
   "source": [
    "Given 32 CPUs available, we will divide the reaction path into 8 windows and run a simulation for each of them. The center of the window will range from the minimum ion-pair distance we got from the pulling simulation, to 0.6 nm, which is close enough to the upper bound of 0.7248 nm. For each window, we generate a configuration from the pulling simulation trajectory whose ion-pair distance is closet to the desired value (i.e., the center of the window). "
   ]
  },
  {
   "cell_type": "code",
   "execution_count": 13,
   "id": "8bd16de9",
   "metadata": {
    "slideshow": {
     "slide_type": "-"
    }
   },
   "outputs": [
    {
     "name": "stdout",
     "output_type": "stream",
     "text": [
      "The ion-pair distances (in nm) of the chosen configurations are: [0.253774 0.303254 0.35234  0.40211  0.45169  0.501026 0.55058  0.596061]\n",
      "The initial configurations will be extracted from the following time frames (in ps): [ 65.9  72.5  88.  101.4 183.9 151.1 199.9 240.7]\n"
     ]
    }
   ],
   "source": [
    "import numpy as np\n",
    "pullx = np.transpose(np.loadtxt('pull/pullx.xvg', comments=['@', '#']))\n",
    "t, dist = pullx[0], pullx[1]\n",
    "centers = np.linspace(min(dist), 0.6, 8)  # the spacing between windows should be around 0.05 nm\n",
    "diff_list = np.abs([dist - i for i in centers])\n",
    "diff_idx = [np.argmin(diff_list[i]) for i in range(len(centers))]  # dist[diff_idx]: distances closet to the centers\n",
    "t_extract = t[diff_idx]  # in ps\n",
    "print(f'The ion-pair distances (in nm) of the chosen configurations are: {dist[diff_idx]}')\n",
    "print(f'The initial configurations will be extracted from the following time frames (in ps): {t_extract}')"
   ]
  },
  {
   "cell_type": "code",
   "execution_count": 22,
   "id": "7aeb4d14",
   "metadata": {
    "slideshow": {
     "slide_type": "-"
    }
   },
   "outputs": [],
   "source": [
    "import os\n",
    "for i in range(len(t_extract)):\n",
    "    os.mkdir(f'sim_{i}')\n",
    "    os.system(f'source /Users/Wei-TseHsu/pkgs/gromacs/2022.5_mpi/bin/GMXRC && echo System | mpirun -np 1 gmx_mpi trjconv -s pull/pull.tpr -f pull/pull.xtc -dump {t_extract[i]} -o sim_{i}/NaCl_{i}.gro')"
   ]
  },
  {
   "cell_type": "markdown",
   "id": "5f5b1381",
   "metadata": {
    "slideshow": {
     "slide_type": "-"
    }
   },
   "source": [
    "## 2. Production runs"
   ]
  },
  {
   "cell_type": "markdown",
   "id": "fc7c7da2",
   "metadata": {
    "slideshow": {
     "slide_type": "-"
    }
   },
   "source": [
    "At this point, we have th `gro` and `top` files ready. However, we need to prepare the `mdp` file `NaCl_umbrella.mdp`. All these simulation inputs will be distributed to 8 different folders for 8 simulations in parallel. \n",
    "\n",
    "Compared to the `mdp` file we used for the pulling simulation, `NaCl_umbrella.mdp` has the following 3 changes:\n",
    "- The simulation length is 500 ps instead of 250 ps. \n",
    "- The pulling rate is set as 0.\n",
    "- The force constant is set as 8000 instead of 1000 $\\mathrm{kJ/mol/nm^2}$."
   ]
  },
  {
   "cell_type": "code",
   "execution_count": 17,
   "id": "4c3d4556",
   "metadata": {
    "slideshow": {
     "slide_type": "-"
    }
   },
   "outputs": [
    {
     "name": "stdout",
     "output_type": "stream",
     "text": [
      "define=-DPOSRES_NA\n",
      "integrator = md \n",
      "dt = 0.002\n",
      "nsteps = 250000\n",
      "cutoff-scheme = Verlet\n",
      "coulombtype = PME\n",
      "rlist = 0.6\n",
      "rcoulomb = 0.6\n",
      "rvdw = 0.6\n",
      "constraints = h-bonds\n",
      "tcoupl =  V-rescale\n",
      "ref_t = 300\n",
      "tau-t = 1.0\n",
      "tc-grps = System\n",
      "gen-vel = yes\n",
      "gen-temp = 300\n",
      "gen-seed = -1 \n",
      "compressibility = 4.5e-5\n",
      "nstxout-compressed = 50\n",
      "nstxout = 50000\n",
      "nstvout = 50000\n",
      "\n",
      "; Pull code\n",
      "pull = yes                        ; Activate the pull code\n",
      "pull-ncoords = 1                  ; Here we only have 1 CV.\n",
      "pull-ngroups = 2                  ; We have 2 pull groups\n",
      "pull-group1-name = NA             ; index 1\n",
      "pull-group2-name = CL             ; index 2\n",
      "pull-coord1-groups = 1 2          ; groups with indices 1 (NA) and 2 (CL) are involved\n",
      "pull-coord1-type = umbrella       ; The umbrella potential (i.e., harmonic potential) is used.\n",
      "pull-coord1-geometry = distance   ; Increase the distance between the pull groups\n",
      "pull-coord1-dim = Y Y Y           ; We allow pulling from any directions.\n",
      "pull-coord1-start = yes           ; The harmonic potential is centered at the initial COM distance. \n",
      "pull-coord1-rate = 0\n",
      "pull-coord1-k = 8000\n"
     ]
    }
   ],
   "source": [
    "%%bash\n",
    "cp pull/NaCl_pull.mdp NaCl_umbrella.mdp\n",
    "sed -i -e \"s/nsteps = 125000/nsteps = 250000/g\" NaCl_umbrella.mdp  # simulation length: 500 ps for each umbrella\n",
    "sed -i -e \"s/pull-coord1-rate = 0.0010         ; 0.0010 nm\\/ps -> pull distance in the 250 ps-simulation: 0.25 nm./pull-coord1-rate = 0/g\" NaCl_umbrella.mdp\n",
    "sed -i -e \"s/pull-coord1-k = 1000              ; units: kJ\\/mol\\/nm^2/pull-coord1-k = 8000/g\" NaCl_umbrella.mdp\n",
    "cat NaCl_umbrella.mdp"
   ]
  },
  {
   "cell_type": "markdown",
   "id": "8962f7b3",
   "metadata": {
    "slideshow": {
     "slide_type": "-"
    }
   },
   "source": [
    "Now, we can generate a `tpr` file for each of the simulations. Here, we will use the same `top` file we used in the pulling simulation. "
   ]
  },
  {
   "cell_type": "code",
   "execution_count": 26,
   "id": "146b6456",
   "metadata": {
    "slideshow": {
     "slide_type": "-"
    }
   },
   "outputs": [
    {
     "name": "stdout",
     "output_type": "stream",
     "text": [
      "Setting the LD random seed to -90213157\n",
      "\n",
      "Generated 330891 of the 330891 non-bonded parameter combinations\n",
      "\n",
      "Generated 330891 of the 330891 1-4 parameter combinations\n",
      "\n",
      "Excluding 2 bonded neighbours molecule type 'SOL'\n",
      "\n",
      "turning H bonds into constraints...\n",
      "\n",
      "Excluding 1 bonded neighbours molecule type 'NA'\n",
      "\n",
      "turning H bonds into constraints...\n",
      "\n",
      "Excluding 1 bonded neighbours molecule type 'CL'\n",
      "\n",
      "turning H bonds into constraints...\n",
      "\n",
      "Setting gen_seed to -287133441\n",
      "\n",
      "Velocities were taken from a Maxwell distribution at 300 K\n",
      "\n",
      "The largest distance between excluded atoms is 0.152 nm\n",
      "\n",
      "Determining Verlet buffer for a tolerance of 0.005 kJ/mol/ps at 300 K\n",
      "\n",
      "Calculated rlist for 1x1 atom pair-list as 0.638 nm, buffer size 0.038 nm\n",
      "\n",
      "Set rlist, assuming 4x4 atom pair-list, to 0.607 nm, buffer size 0.007 nm\n",
      "\n",
      "Note that mdrun will redetermine rlist based on the actual pair-list setup\n",
      "Calculating fourier grid dimensions for X Y Z\n",
      "Using a fourier grid of 14x14x14, spacing 0.106 0.106 0.106\n",
      "\n",
      "Estimate for the relative computational load of the PME mesh part: 0.51\n",
      "\n",
      "This run will generate roughly 9 Mb of data\n",
      "Setting the LD random seed to -403193873\n",
      "\n",
      "Generated 330891 of the 330891 non-bonded parameter combinations\n",
      "\n",
      "Generated 330891 of the 330891 1-4 parameter combinations\n",
      "\n",
      "Excluding 2 bonded neighbours molecule type 'SOL'\n",
      "\n",
      "turning H bonds into constraints...\n",
      "\n",
      "Excluding 1 bonded neighbours molecule type 'NA'\n",
      "\n",
      "turning H bonds into constraints...\n",
      "\n",
      "Excluding 1 bonded neighbours molecule type 'CL'\n",
      "\n",
      "turning H bonds into constraints...\n",
      "\n",
      "Setting gen_seed to -144199683\n",
      "\n",
      "Velocities were taken from a Maxwell distribution at 300 K\n",
      "\n",
      "The largest distance between excluded atoms is 0.152 nm\n",
      "\n",
      "Determining Verlet buffer for a tolerance of 0.005 kJ/mol/ps at 300 K\n",
      "\n",
      "Calculated rlist for 1x1 atom pair-list as 0.638 nm, buffer size 0.038 nm\n",
      "\n",
      "Set rlist, assuming 4x4 atom pair-list, to 0.607 nm, buffer size 0.007 nm\n",
      "\n",
      "Note that mdrun will redetermine rlist based on the actual pair-list setup\n",
      "Calculating fourier grid dimensions for X Y Z\n",
      "Using a fourier grid of 14x14x14, spacing 0.106 0.106 0.106\n",
      "\n",
      "Estimate for the relative computational load of the PME mesh part: 0.51\n",
      "\n",
      "This run will generate roughly 9 Mb of data\n",
      "Setting the LD random seed to -85464127\n",
      "\n",
      "Generated 330891 of the 330891 non-bonded parameter combinations\n",
      "\n",
      "Generated 330891 of the 330891 1-4 parameter combinations\n",
      "\n",
      "Excluding 2 bonded neighbours molecule type 'SOL'\n",
      "\n",
      "turning H bonds into constraints...\n",
      "\n",
      "Excluding 1 bonded neighbours molecule type 'NA'\n",
      "\n",
      "turning H bonds into constraints...\n",
      "\n",
      "Excluding 1 bonded neighbours molecule type 'CL'\n",
      "\n",
      "turning H bonds into constraints...\n",
      "\n",
      "Setting gen_seed to 1059433727\n",
      "\n",
      "Velocities were taken from a Maxwell distribution at 300 K\n",
      "\n",
      "The largest distance between excluded atoms is 0.152 nm\n",
      "\n",
      "Determining Verlet buffer for a tolerance of 0.005 kJ/mol/ps at 300 K\n",
      "\n",
      "Calculated rlist for 1x1 atom pair-list as 0.638 nm, buffer size 0.038 nm\n",
      "\n",
      "Set rlist, assuming 4x4 atom pair-list, to 0.607 nm, buffer size 0.007 nm\n",
      "\n",
      "Note that mdrun will redetermine rlist based on the actual pair-list setup\n",
      "Calculating fourier grid dimensions for X Y Z\n",
      "Using a fourier grid of 14x14x14, spacing 0.106 0.106 0.106\n",
      "\n",
      "Estimate for the relative computational load of the PME mesh part: 0.51\n",
      "\n",
      "This run will generate roughly 9 Mb of data\n",
      "Setting the LD random seed to -1630535737\n",
      "\n",
      "Generated 330891 of the 330891 non-bonded parameter combinations\n",
      "\n",
      "Generated 330891 of the 330891 1-4 parameter combinations\n",
      "\n",
      "Excluding 2 bonded neighbours molecule type 'SOL'\n",
      "\n",
      "turning H bonds into constraints...\n",
      "\n",
      "Excluding 1 bonded neighbours molecule type 'NA'\n",
      "\n",
      "turning H bonds into constraints...\n",
      "\n",
      "Excluding 1 bonded neighbours molecule type 'CL'\n",
      "\n",
      "turning H bonds into constraints...\n",
      "\n",
      "Setting gen_seed to -1548092297\n",
      "\n",
      "Velocities were taken from a Maxwell distribution at 300 K\n",
      "\n",
      "The largest distance between excluded atoms is 0.153 nm\n",
      "\n",
      "Determining Verlet buffer for a tolerance of 0.005 kJ/mol/ps at 300 K\n",
      "\n",
      "Calculated rlist for 1x1 atom pair-list as 0.638 nm, buffer size 0.038 nm\n",
      "\n",
      "Set rlist, assuming 4x4 atom pair-list, to 0.607 nm, buffer size 0.007 nm\n",
      "\n",
      "Note that mdrun will redetermine rlist based on the actual pair-list setup\n",
      "Calculating fourier grid dimensions for X Y Z\n",
      "Using a fourier grid of 14x14x14, spacing 0.106 0.106 0.106\n",
      "\n",
      "Estimate for the relative computational load of the PME mesh part: 0.51\n",
      "\n",
      "This run will generate roughly 9 Mb of data\n",
      "Setting the LD random seed to -537138549\n",
      "\n",
      "Generated 330891 of the 330891 non-bonded parameter combinations\n",
      "\n",
      "Generated 330891 of the 330891 1-4 parameter combinations\n",
      "\n",
      "Excluding 2 bonded neighbours molecule type 'SOL'\n",
      "\n",
      "turning H bonds into constraints...\n",
      "\n",
      "Excluding 1 bonded neighbours molecule type 'NA'\n",
      "\n",
      "turning H bonds into constraints...\n",
      "\n",
      "Excluding 1 bonded neighbours molecule type 'CL'\n",
      "\n",
      "turning H bonds into constraints...\n",
      "\n",
      "Setting gen_seed to 503289851\n",
      "\n",
      "Velocities were taken from a Maxwell distribution at 300 K\n",
      "\n",
      "The largest distance between excluded atoms is 0.152 nm\n",
      "\n",
      "Determining Verlet buffer for a tolerance of 0.005 kJ/mol/ps at 300 K\n",
      "\n",
      "Calculated rlist for 1x1 atom pair-list as 0.638 nm, buffer size 0.038 nm\n",
      "\n",
      "Set rlist, assuming 4x4 atom pair-list, to 0.607 nm, buffer size 0.007 nm\n",
      "\n",
      "Note that mdrun will redetermine rlist based on the actual pair-list setup\n",
      "Calculating fourier grid dimensions for X Y Z\n",
      "Using a fourier grid of 14x14x14, spacing 0.106 0.106 0.106\n",
      "\n",
      "Estimate for the relative computational load of the PME mesh part: 0.51\n",
      "\n",
      "This run will generate roughly 9 Mb of data\n",
      "Setting the LD random seed to -12865619\n",
      "\n",
      "Generated 330891 of the 330891 non-bonded parameter combinations\n",
      "\n",
      "Generated 330891 of the 330891 1-4 parameter combinations\n",
      "\n",
      "Excluding 2 bonded neighbours molecule type 'SOL'\n",
      "\n",
      "turning H bonds into constraints...\n",
      "\n",
      "Excluding 1 bonded neighbours molecule type 'NA'\n",
      "\n",
      "turning H bonds into constraints...\n",
      "\n",
      "Excluding 1 bonded neighbours molecule type 'CL'\n",
      "\n",
      "turning H bonds into constraints...\n",
      "\n",
      "Setting gen_seed to 2004103079\n",
      "\n",
      "Velocities were taken from a Maxwell distribution at 300 K\n",
      "\n",
      "The largest distance between excluded atoms is 0.152 nm\n",
      "\n",
      "Determining Verlet buffer for a tolerance of 0.005 kJ/mol/ps at 300 K\n",
      "\n",
      "Calculated rlist for 1x1 atom pair-list as 0.638 nm, buffer size 0.038 nm\n",
      "\n",
      "Set rlist, assuming 4x4 atom pair-list, to 0.607 nm, buffer size 0.007 nm\n",
      "\n",
      "Note that mdrun will redetermine rlist based on the actual pair-list setup\n",
      "Calculating fourier grid dimensions for X Y Z\n",
      "Using a fourier grid of 14x14x14, spacing 0.106 0.106 0.106\n",
      "\n",
      "Estimate for the relative computational load of the PME mesh part: 0.51\n",
      "\n",
      "This run will generate roughly 9 Mb of data\n",
      "Setting the LD random seed to 1601959615\n",
      "\n",
      "Generated 330891 of the 330891 non-bonded parameter combinations\n",
      "\n",
      "Generated 330891 of the 330891 1-4 parameter combinations\n",
      "\n",
      "Excluding 2 bonded neighbours molecule type 'SOL'\n",
      "\n",
      "turning H bonds into constraints...\n",
      "\n",
      "Excluding 1 bonded neighbours molecule type 'NA'\n",
      "\n",
      "turning H bonds into constraints...\n",
      "\n",
      "Excluding 1 bonded neighbours molecule type 'CL'\n",
      "\n",
      "turning H bonds into constraints...\n",
      "\n",
      "Setting gen_seed to 1874853351\n",
      "\n",
      "Velocities were taken from a Maxwell distribution at 300 K\n",
      "\n",
      "The largest distance between excluded atoms is 0.153 nm\n",
      "\n",
      "Determining Verlet buffer for a tolerance of 0.005 kJ/mol/ps at 300 K\n",
      "\n",
      "Calculated rlist for 1x1 atom pair-list as 0.638 nm, buffer size 0.038 nm\n",
      "\n",
      "Set rlist, assuming 4x4 atom pair-list, to 0.607 nm, buffer size 0.007 nm\n",
      "\n",
      "Note that mdrun will redetermine rlist based on the actual pair-list setup\n",
      "Calculating fourier grid dimensions for X Y Z\n",
      "Using a fourier grid of 14x14x14, spacing 0.106 0.106 0.106\n",
      "\n",
      "Estimate for the relative computational load of the PME mesh part: 0.51\n",
      "\n",
      "This run will generate roughly 9 Mb of data\n",
      "Setting the LD random seed to -13113673\n",
      "\n",
      "Generated 330891 of the 330891 non-bonded parameter combinations\n",
      "\n",
      "Generated 330891 of the 330891 1-4 parameter combinations\n",
      "\n",
      "Excluding 2 bonded neighbours molecule type 'SOL'\n",
      "\n",
      "turning H bonds into constraints...\n",
      "\n",
      "Excluding 1 bonded neighbours molecule type 'NA'\n",
      "\n",
      "turning H bonds into constraints...\n",
      "\n",
      "Excluding 1 bonded neighbours molecule type 'CL'\n",
      "\n",
      "turning H bonds into constraints...\n",
      "\n",
      "Setting gen_seed to 2130558431\n",
      "\n",
      "Velocities were taken from a Maxwell distribution at 300 K\n",
      "\n",
      "The largest distance between excluded atoms is 0.152 nm\n",
      "\n",
      "Determining Verlet buffer for a tolerance of 0.005 kJ/mol/ps at 300 K\n",
      "\n",
      "Calculated rlist for 1x1 atom pair-list as 0.638 nm, buffer size 0.038 nm\n",
      "\n",
      "Set rlist, assuming 4x4 atom pair-list, to 0.607 nm, buffer size 0.007 nm\n",
      "\n",
      "Note that mdrun will redetermine rlist based on the actual pair-list setup\n",
      "Calculating fourier grid dimensions for X Y Z\n",
      "Using a fourier grid of 14x14x14, spacing 0.106 0.106 0.106\n",
      "\n",
      "Estimate for the relative computational load of the PME mesh part: 0.51\n",
      "\n",
      "This run will generate roughly 9 Mb of data\n"
     ]
    },
    {
     "name": "stderr",
     "output_type": "stream",
     "text": [
      "          :-) GROMACS - gmx grompp, 2022.5-dev-20230428-fdf57150ad (-:\n",
      "\n",
      "Executable:   /Users/Wei-TseHsu/pkgs/gromacs/2022.5_mpi/bin/gmx_mpi\n",
      "Data prefix:  /Users/Wei-TseHsu/pkgs/gromacs/2022.5_mpi\n",
      "Working dir:  /Users/Wei-TseHsu/Documents/Life_in_CU_Bouler/Research_in_Shirts_Lab/advanced_sampling_tutorials/Chapter_1/sim_0\n",
      "Command line:\n",
      "  gmx_mpi grompp -f NaCl_umbrella.mdp -c NaCl_0.gro -r NaCl_0.gro -p NaCl_US.top -o NaCl_US.tpr -n NaCl.ndx -maxwarn 1\n",
      "\n",
      "Generating 1-4 interactions: fudge = 0.5\n",
      "Pull group 1 'NA' has 1 atoms\n",
      "Pull group 2 'CL' has 1 atoms\n",
      "Number of degrees of freedom in T-Coupling group System is 645.00\n",
      "\n",
      "NOTE 1 [file NaCl_umbrella.mdp]:\n",
      "  Removing center of mass motion in the presence of position restraints\n",
      "  might cause artifacts. When you are using position restraints to\n",
      "  equilibrate a macro-molecule, the artifacts are usually negligible.\n",
      "\n",
      "Pull group  natoms  pbc atom  distance at start  reference at t=0\n",
      "       1         1         0\n",
      "       2         1         0       0.253 nm          0.253 nm\n",
      "\n",
      "NOTE 2 [file NaCl_umbrella.mdp]:\n",
      "  The optimal PME mesh load for parallel simulations is below 0.5\n",
      "  and for highly parallel simulations between 0.25 and 0.33,\n",
      "  for higher performance, increase the cut-off and the PME grid spacing.\n",
      "\n",
      "\n",
      "\n",
      "There were 2 notes\n",
      "\n",
      "Back Off! I just backed up NaCl_US.tpr to ./#NaCl_US.tpr.2#\n",
      "\n",
      "GROMACS reminds you: \"In physics, you don't have to go around making trouble for yourself. Nature does it for you.\" (Frank Wilczek)\n",
      "\n",
      "          :-) GROMACS - gmx mdrun, 2022.5-dev-20230428-fdf57150ad (-:\n",
      "\n",
      "Executable:   /Users/Wei-TseHsu/pkgs/gromacs/2022.5_mpi/bin/gmx_mpi\n",
      "Data prefix:  /Users/Wei-TseHsu/pkgs/gromacs/2022.5_mpi\n",
      "Working dir:  /Users/Wei-TseHsu/Documents/Life_in_CU_Bouler/Research_in_Shirts_Lab/advanced_sampling_tutorials/Chapter_1/sim_0\n",
      "Command line:\n",
      "  gmx_mpi mdrun -deffnm NaCl_US -pf pullf.xvg -px pullx.xvg -ntomp 1\n",
      "\n",
      "Reading file NaCl_US.tpr, VERSION 2022.5-dev-20230428-fdf57150ad (single precision)\n",
      "Changing nstlist from 10 to 25, rlist from 0.607 to 0.67\n",
      "\n",
      "Using 1 MPI process\n",
      "starting mdrun 'NaCl in water'\n",
      "250000 steps,    500.0 ps.\n",
      "\n",
      "Writing final coordinates.\n",
      "\n",
      "               Core t (s)   Wall t (s)        (%)\n",
      "       Time:       34.041       34.043      100.0\n",
      "                 (ns/day)    (hour/ns)\n",
      "Performance:     1269.000        0.019\n",
      "\n",
      "GROMACS reminds you: \"Correctomundo\" (Pulp Fiction)\n",
      "\n",
      "          :-) GROMACS - gmx grompp, 2022.5-dev-20230428-fdf57150ad (-:\n",
      "\n",
      "Executable:   /Users/Wei-TseHsu/pkgs/gromacs/2022.5_mpi/bin/gmx_mpi\n",
      "Data prefix:  /Users/Wei-TseHsu/pkgs/gromacs/2022.5_mpi\n",
      "Working dir:  /Users/Wei-TseHsu/Documents/Life_in_CU_Bouler/Research_in_Shirts_Lab/advanced_sampling_tutorials/Chapter_1/sim_1\n",
      "Command line:\n",
      "  gmx_mpi grompp -f NaCl_umbrella.mdp -c NaCl_1.gro -r NaCl_1.gro -p NaCl_US.top -o NaCl_US.tpr -n NaCl.ndx -maxwarn 1\n",
      "\n",
      "Generating 1-4 interactions: fudge = 0.5\n",
      "Pull group 1 'NA' has 1 atoms\n",
      "Pull group 2 'CL' has 1 atoms\n",
      "Number of degrees of freedom in T-Coupling group System is 645.00\n",
      "\n",
      "NOTE 1 [file NaCl_umbrella.mdp]:\n",
      "  Removing center of mass motion in the presence of position restraints\n",
      "  might cause artifacts. When you are using position restraints to\n",
      "  equilibrate a macro-molecule, the artifacts are usually negligible.\n",
      "\n",
      "Pull group  natoms  pbc atom  distance at start  reference at t=0\n",
      "       1         1         0\n",
      "       2         1         0       0.303 nm          0.303 nm\n",
      "\n",
      "NOTE 2 [file NaCl_umbrella.mdp]:\n",
      "  The optimal PME mesh load for parallel simulations is below 0.5\n",
      "  and for highly parallel simulations between 0.25 and 0.33,\n",
      "  for higher performance, increase the cut-off and the PME grid spacing.\n",
      "\n",
      "\n",
      "\n",
      "There were 2 notes\n",
      "\n",
      "Back Off! I just backed up NaCl_US.tpr to ./#NaCl_US.tpr.2#\n",
      "\n",
      "GROMACS reminds you: \"Between equal rights, force decides.\" (Karl Marx)\n",
      "\n",
      "          :-) GROMACS - gmx mdrun, 2022.5-dev-20230428-fdf57150ad (-:\n",
      "\n",
      "Executable:   /Users/Wei-TseHsu/pkgs/gromacs/2022.5_mpi/bin/gmx_mpi\n",
      "Data prefix:  /Users/Wei-TseHsu/pkgs/gromacs/2022.5_mpi\n",
      "Working dir:  /Users/Wei-TseHsu/Documents/Life_in_CU_Bouler/Research_in_Shirts_Lab/advanced_sampling_tutorials/Chapter_1/sim_1\n",
      "Command line:\n",
      "  gmx_mpi mdrun -deffnm NaCl_US -pf pullf.xvg -px pullx.xvg -ntomp 1\n",
      "\n",
      "Reading file NaCl_US.tpr, VERSION 2022.5-dev-20230428-fdf57150ad (single precision)\n",
      "Changing nstlist from 10 to 25, rlist from 0.607 to 0.67\n",
      "\n",
      "Using 1 MPI process\n",
      "starting mdrun 'NaCl in water'\n",
      "250000 steps,    500.0 ps.\n",
      "\n",
      "Writing final coordinates.\n",
      "\n",
      "               Core t (s)   Wall t (s)        (%)\n",
      "       Time:       35.278       35.278      100.0\n",
      "                 (ns/day)    (hour/ns)\n",
      "Performance:     1224.550        0.020\n",
      "\n",
      "GROMACS reminds you: \"What's Your Definition Of Dirty ?\" (G. Michael)\n",
      "\n",
      "          :-) GROMACS - gmx grompp, 2022.5-dev-20230428-fdf57150ad (-:\n",
      "\n",
      "Executable:   /Users/Wei-TseHsu/pkgs/gromacs/2022.5_mpi/bin/gmx_mpi\n",
      "Data prefix:  /Users/Wei-TseHsu/pkgs/gromacs/2022.5_mpi\n",
      "Working dir:  /Users/Wei-TseHsu/Documents/Life_in_CU_Bouler/Research_in_Shirts_Lab/advanced_sampling_tutorials/Chapter_1/sim_2\n",
      "Command line:\n",
      "  gmx_mpi grompp -f NaCl_umbrella.mdp -c NaCl_2.gro -r NaCl_2.gro -p NaCl_US.top -o NaCl_US.tpr -n NaCl.ndx -maxwarn 1\n",
      "\n",
      "Generating 1-4 interactions: fudge = 0.5\n",
      "Pull group 1 'NA' has 1 atoms\n",
      "Pull group 2 'CL' has 1 atoms\n",
      "Number of degrees of freedom in T-Coupling group System is 645.00\n",
      "\n",
      "NOTE 1 [file NaCl_umbrella.mdp]:\n",
      "  Removing center of mass motion in the presence of position restraints\n",
      "  might cause artifacts. When you are using position restraints to\n",
      "  equilibrate a macro-molecule, the artifacts are usually negligible.\n",
      "\n",
      "Pull group  natoms  pbc atom  distance at start  reference at t=0\n",
      "       1         1         0\n",
      "       2         1         0       0.352 nm          0.352 nm\n",
      "\n",
      "NOTE 2 [file NaCl_umbrella.mdp]:\n",
      "  The optimal PME mesh load for parallel simulations is below 0.5\n",
      "  and for highly parallel simulations between 0.25 and 0.33,\n",
      "  for higher performance, increase the cut-off and the PME grid spacing.\n",
      "\n",
      "\n",
      "\n",
      "There were 2 notes\n",
      "\n",
      "Back Off! I just backed up NaCl_US.tpr to ./#NaCl_US.tpr.2#\n",
      "\n",
      "GROMACS reminds you: \"Don't Push Me, Cause I'm Close to the Edge\" (Tricky)\n",
      "\n",
      "          :-) GROMACS - gmx mdrun, 2022.5-dev-20230428-fdf57150ad (-:\n",
      "\n",
      "Executable:   /Users/Wei-TseHsu/pkgs/gromacs/2022.5_mpi/bin/gmx_mpi\n",
      "Data prefix:  /Users/Wei-TseHsu/pkgs/gromacs/2022.5_mpi\n",
      "Working dir:  /Users/Wei-TseHsu/Documents/Life_in_CU_Bouler/Research_in_Shirts_Lab/advanced_sampling_tutorials/Chapter_1/sim_2\n",
      "Command line:\n",
      "  gmx_mpi mdrun -deffnm NaCl_US -pf pullf.xvg -px pullx.xvg -ntomp 1\n",
      "\n",
      "Reading file NaCl_US.tpr, VERSION 2022.5-dev-20230428-fdf57150ad (single precision)\n",
      "Changing nstlist from 10 to 25, rlist from 0.607 to 0.67\n",
      "\n",
      "Using 1 MPI process\n",
      "starting mdrun 'NaCl in water'\n",
      "250000 steps,    500.0 ps.\n",
      "\n",
      "Writing final coordinates.\n",
      "\n",
      "               Core t (s)   Wall t (s)        (%)\n",
      "       Time:       34.978       34.979      100.0\n",
      "                 (ns/day)    (hour/ns)\n",
      "Performance:     1235.031        0.019\n",
      "\n",
      "GROMACS reminds you: \"Chemical gases filling lungs of little ones\" (Black Eyed Peas)\n",
      "\n",
      "          :-) GROMACS - gmx grompp, 2022.5-dev-20230428-fdf57150ad (-:\n",
      "\n",
      "Executable:   /Users/Wei-TseHsu/pkgs/gromacs/2022.5_mpi/bin/gmx_mpi\n",
      "Data prefix:  /Users/Wei-TseHsu/pkgs/gromacs/2022.5_mpi\n",
      "Working dir:  /Users/Wei-TseHsu/Documents/Life_in_CU_Bouler/Research_in_Shirts_Lab/advanced_sampling_tutorials/Chapter_1/sim_3\n",
      "Command line:\n",
      "  gmx_mpi grompp -f NaCl_umbrella.mdp -c NaCl_3.gro -r NaCl_3.gro -p NaCl_US.top -o NaCl_US.tpr -n NaCl.ndx -maxwarn 1\n",
      "\n",
      "Generating 1-4 interactions: fudge = 0.5\n",
      "Pull group 1 'NA' has 1 atoms\n",
      "Pull group 2 'CL' has 1 atoms\n",
      "Number of degrees of freedom in T-Coupling group System is 645.00\n",
      "\n",
      "NOTE 1 [file NaCl_umbrella.mdp]:\n",
      "  Removing center of mass motion in the presence of position restraints\n",
      "  might cause artifacts. When you are using position restraints to\n",
      "  equilibrate a macro-molecule, the artifacts are usually negligible.\n",
      "\n",
      "Pull group  natoms  pbc atom  distance at start  reference at t=0\n",
      "       1         1         0\n",
      "       2         1         0       0.402 nm          0.402 nm\n",
      "\n",
      "NOTE 2 [file NaCl_umbrella.mdp]:\n",
      "  The optimal PME mesh load for parallel simulations is below 0.5\n",
      "  and for highly parallel simulations between 0.25 and 0.33,\n",
      "  for higher performance, increase the cut-off and the PME grid spacing.\n",
      "\n",
      "\n",
      "\n",
      "There were 2 notes\n",
      "\n",
      "Back Off! I just backed up NaCl_US.tpr to ./#NaCl_US.tpr.2#\n",
      "\n",
      "GROMACS reminds you: \"Three Little Fonzies\" (Pulp Fiction)\n",
      "\n",
      "          :-) GROMACS - gmx mdrun, 2022.5-dev-20230428-fdf57150ad (-:\n",
      "\n",
      "Executable:   /Users/Wei-TseHsu/pkgs/gromacs/2022.5_mpi/bin/gmx_mpi\n",
      "Data prefix:  /Users/Wei-TseHsu/pkgs/gromacs/2022.5_mpi\n",
      "Working dir:  /Users/Wei-TseHsu/Documents/Life_in_CU_Bouler/Research_in_Shirts_Lab/advanced_sampling_tutorials/Chapter_1/sim_3\n",
      "Command line:\n",
      "  gmx_mpi mdrun -deffnm NaCl_US -pf pullf.xvg -px pullx.xvg -ntomp 1\n",
      "\n",
      "Reading file NaCl_US.tpr, VERSION 2022.5-dev-20230428-fdf57150ad (single precision)\n",
      "Changing nstlist from 10 to 25, rlist from 0.607 to 0.67\n",
      "\n",
      "Using 1 MPI process\n",
      "starting mdrun 'NaCl in water'\n",
      "250000 steps,    500.0 ps.\n",
      "\n",
      "Writing final coordinates.\n",
      "\n",
      "               Core t (s)   Wall t (s)        (%)\n",
      "       Time:       34.214       34.214      100.0\n",
      "                 (ns/day)    (hour/ns)\n",
      "Performance:     1262.639        0.019\n",
      "\n",
      "GROMACS reminds you: \"I've basically become a vegetarian since the only meat I'm eating is from animals I've killed myself\" (Mark Zuckerberg)\n",
      "\n",
      "          :-) GROMACS - gmx grompp, 2022.5-dev-20230428-fdf57150ad (-:\n",
      "\n",
      "Executable:   /Users/Wei-TseHsu/pkgs/gromacs/2022.5_mpi/bin/gmx_mpi\n",
      "Data prefix:  /Users/Wei-TseHsu/pkgs/gromacs/2022.5_mpi\n",
      "Working dir:  /Users/Wei-TseHsu/Documents/Life_in_CU_Bouler/Research_in_Shirts_Lab/advanced_sampling_tutorials/Chapter_1/sim_4\n",
      "Command line:\n",
      "  gmx_mpi grompp -f NaCl_umbrella.mdp -c NaCl_4.gro -r NaCl_4.gro -p NaCl_US.top -o NaCl_US.tpr -n NaCl.ndx -maxwarn 1\n",
      "\n",
      "Generating 1-4 interactions: fudge = 0.5\n",
      "Pull group 1 'NA' has 1 atoms\n",
      "Pull group 2 'CL' has 1 atoms\n",
      "Number of degrees of freedom in T-Coupling group System is 645.00\n",
      "\n",
      "NOTE 1 [file NaCl_umbrella.mdp]:\n",
      "  Removing center of mass motion in the presence of position restraints\n",
      "  might cause artifacts. When you are using position restraints to\n",
      "  equilibrate a macro-molecule, the artifacts are usually negligible.\n",
      "\n",
      "Pull group  natoms  pbc atom  distance at start  reference at t=0\n",
      "       1         1         0\n",
      "       2         1         0       0.451 nm          0.451 nm\n",
      "\n",
      "NOTE 2 [file NaCl_umbrella.mdp]:\n",
      "  The optimal PME mesh load for parallel simulations is below 0.5\n",
      "  and for highly parallel simulations between 0.25 and 0.33,\n",
      "  for higher performance, increase the cut-off and the PME grid spacing.\n",
      "\n",
      "\n",
      "\n",
      "There were 2 notes\n",
      "\n",
      "Back Off! I just backed up NaCl_US.tpr to ./#NaCl_US.tpr.2#\n",
      "\n",
      "GROMACS reminds you: \"There's a limit to how many times you can read how great you are and what an inspiration you are, but I'm not there yet.\" (Randy Pausch)\n",
      "\n",
      "          :-) GROMACS - gmx mdrun, 2022.5-dev-20230428-fdf57150ad (-:\n",
      "\n",
      "Executable:   /Users/Wei-TseHsu/pkgs/gromacs/2022.5_mpi/bin/gmx_mpi\n",
      "Data prefix:  /Users/Wei-TseHsu/pkgs/gromacs/2022.5_mpi\n",
      "Working dir:  /Users/Wei-TseHsu/Documents/Life_in_CU_Bouler/Research_in_Shirts_Lab/advanced_sampling_tutorials/Chapter_1/sim_4\n",
      "Command line:\n",
      "  gmx_mpi mdrun -deffnm NaCl_US -pf pullf.xvg -px pullx.xvg -ntomp 1\n",
      "\n",
      "Reading file NaCl_US.tpr, VERSION 2022.5-dev-20230428-fdf57150ad (single precision)\n",
      "Changing nstlist from 10 to 25, rlist from 0.607 to 0.67\n",
      "\n",
      "Using 1 MPI process\n",
      "starting mdrun 'NaCl in water'\n",
      "250000 steps,    500.0 ps.\n",
      "\n",
      "Writing final coordinates.\n",
      "\n",
      "               Core t (s)   Wall t (s)        (%)\n",
      "       Time:       35.255       35.256      100.0\n",
      "                 (ns/day)    (hour/ns)\n",
      "Performance:     1225.338        0.020\n",
      "\n",
      "GROMACS reminds you: \"Problems worthy / of attack / prove their worth / by hitting back.\" (Piet Hein)\n",
      "\n",
      "          :-) GROMACS - gmx grompp, 2022.5-dev-20230428-fdf57150ad (-:\n",
      "\n",
      "Executable:   /Users/Wei-TseHsu/pkgs/gromacs/2022.5_mpi/bin/gmx_mpi\n",
      "Data prefix:  /Users/Wei-TseHsu/pkgs/gromacs/2022.5_mpi\n",
      "Working dir:  /Users/Wei-TseHsu/Documents/Life_in_CU_Bouler/Research_in_Shirts_Lab/advanced_sampling_tutorials/Chapter_1/sim_5\n",
      "Command line:\n",
      "  gmx_mpi grompp -f NaCl_umbrella.mdp -c NaCl_5.gro -r NaCl_5.gro -p NaCl_US.top -o NaCl_US.tpr -n NaCl.ndx -maxwarn 1\n",
      "\n",
      "Generating 1-4 interactions: fudge = 0.5\n",
      "Pull group 1 'NA' has 1 atoms\n",
      "Pull group 2 'CL' has 1 atoms\n",
      "Number of degrees of freedom in T-Coupling group System is 645.00\n",
      "\n",
      "NOTE 1 [file NaCl_umbrella.mdp]:\n",
      "  Removing center of mass motion in the presence of position restraints\n",
      "  might cause artifacts. When you are using position restraints to\n",
      "  equilibrate a macro-molecule, the artifacts are usually negligible.\n",
      "\n",
      "Pull group  natoms  pbc atom  distance at start  reference at t=0\n",
      "       1         1         0\n",
      "       2         1         0       0.501 nm          0.501 nm\n",
      "\n",
      "NOTE 2 [file NaCl_umbrella.mdp]:\n",
      "  The optimal PME mesh load for parallel simulations is below 0.5\n",
      "  and for highly parallel simulations between 0.25 and 0.33,\n",
      "  for higher performance, increase the cut-off and the PME grid spacing.\n",
      "\n",
      "\n",
      "\n",
      "There were 2 notes\n",
      "\n",
      "Back Off! I just backed up NaCl_US.tpr to ./#NaCl_US.tpr.2#\n",
      "\n",
      "GROMACS reminds you: \"I admired Bohr very much. We had long talks together, long talks in which Bohr did practically all the talking.\" (Paul Dirac)\n",
      "\n",
      "          :-) GROMACS - gmx mdrun, 2022.5-dev-20230428-fdf57150ad (-:\n",
      "\n",
      "Executable:   /Users/Wei-TseHsu/pkgs/gromacs/2022.5_mpi/bin/gmx_mpi\n",
      "Data prefix:  /Users/Wei-TseHsu/pkgs/gromacs/2022.5_mpi\n",
      "Working dir:  /Users/Wei-TseHsu/Documents/Life_in_CU_Bouler/Research_in_Shirts_Lab/advanced_sampling_tutorials/Chapter_1/sim_5\n",
      "Command line:\n",
      "  gmx_mpi mdrun -deffnm NaCl_US -pf pullf.xvg -px pullx.xvg -ntomp 1\n",
      "\n",
      "Reading file NaCl_US.tpr, VERSION 2022.5-dev-20230428-fdf57150ad (single precision)\n",
      "Changing nstlist from 10 to 25, rlist from 0.607 to 0.67\n",
      "\n",
      "Using 1 MPI process\n",
      "starting mdrun 'NaCl in water'\n",
      "250000 steps,    500.0 ps.\n",
      "\n",
      "Writing final coordinates.\n",
      "\n",
      "               Core t (s)   Wall t (s)        (%)\n",
      "       Time:       38.465       38.466      100.0\n",
      "                 (ns/day)    (hour/ns)\n",
      "Performance:     1123.087        0.021\n",
      "\n",
      "GROMACS reminds you: \"I Wrapped a Newspaper Round My Head\" (F. Zappa)\n",
      "\n",
      "          :-) GROMACS - gmx grompp, 2022.5-dev-20230428-fdf57150ad (-:\n",
      "\n",
      "Executable:   /Users/Wei-TseHsu/pkgs/gromacs/2022.5_mpi/bin/gmx_mpi\n",
      "Data prefix:  /Users/Wei-TseHsu/pkgs/gromacs/2022.5_mpi\n",
      "Working dir:  /Users/Wei-TseHsu/Documents/Life_in_CU_Bouler/Research_in_Shirts_Lab/advanced_sampling_tutorials/Chapter_1/sim_6\n",
      "Command line:\n",
      "  gmx_mpi grompp -f NaCl_umbrella.mdp -c NaCl_6.gro -r NaCl_6.gro -p NaCl_US.top -o NaCl_US.tpr -n NaCl.ndx -maxwarn 1\n",
      "\n",
      "Generating 1-4 interactions: fudge = 0.5\n",
      "Pull group 1 'NA' has 1 atoms\n",
      "Pull group 2 'CL' has 1 atoms\n",
      "Number of degrees of freedom in T-Coupling group System is 645.00\n",
      "\n",
      "NOTE 1 [file NaCl_umbrella.mdp]:\n",
      "  Removing center of mass motion in the presence of position restraints\n",
      "  might cause artifacts. When you are using position restraints to\n",
      "  equilibrate a macro-molecule, the artifacts are usually negligible.\n",
      "\n",
      "Pull group  natoms  pbc atom  distance at start  reference at t=0\n",
      "       1         1         0\n",
      "       2         1         0       0.551 nm          0.551 nm\n",
      "\n",
      "NOTE 2 [file NaCl_umbrella.mdp]:\n",
      "  The optimal PME mesh load for parallel simulations is below 0.5\n",
      "  and for highly parallel simulations between 0.25 and 0.33,\n",
      "  for higher performance, increase the cut-off and the PME grid spacing.\n",
      "\n",
      "\n",
      "\n",
      "There were 2 notes\n",
      "\n",
      "Back Off! I just backed up NaCl_US.tpr to ./#NaCl_US.tpr.2#\n",
      "\n",
      "GROMACS reminds you: \"I Wrapped a Newspaper Round My Head\" (F. Zappa)\n",
      "\n",
      "          :-) GROMACS - gmx mdrun, 2022.5-dev-20230428-fdf57150ad (-:\n",
      "\n",
      "Executable:   /Users/Wei-TseHsu/pkgs/gromacs/2022.5_mpi/bin/gmx_mpi\n",
      "Data prefix:  /Users/Wei-TseHsu/pkgs/gromacs/2022.5_mpi\n",
      "Working dir:  /Users/Wei-TseHsu/Documents/Life_in_CU_Bouler/Research_in_Shirts_Lab/advanced_sampling_tutorials/Chapter_1/sim_6\n",
      "Command line:\n",
      "  gmx_mpi mdrun -deffnm NaCl_US -pf pullf.xvg -px pullx.xvg -ntomp 1\n",
      "\n",
      "Reading file NaCl_US.tpr, VERSION 2022.5-dev-20230428-fdf57150ad (single precision)\n",
      "Changing nstlist from 10 to 25, rlist from 0.607 to 0.67\n",
      "\n",
      "Using 1 MPI process\n",
      "starting mdrun 'NaCl in water'\n",
      "250000 steps,    500.0 ps.\n",
      "\n",
      "Writing final coordinates.\n",
      "\n",
      "               Core t (s)   Wall t (s)        (%)\n",
      "       Time:       38.719       38.719      100.0\n",
      "                 (ns/day)    (hour/ns)\n",
      "Performance:     1115.729        0.022\n",
      "\n",
      "GROMACS reminds you: \"I was elected to lead, not to read\" (President A. Schwarzenegger)\n",
      "\n",
      "          :-) GROMACS - gmx grompp, 2022.5-dev-20230428-fdf57150ad (-:\n",
      "\n",
      "Executable:   /Users/Wei-TseHsu/pkgs/gromacs/2022.5_mpi/bin/gmx_mpi\n",
      "Data prefix:  /Users/Wei-TseHsu/pkgs/gromacs/2022.5_mpi\n",
      "Working dir:  /Users/Wei-TseHsu/Documents/Life_in_CU_Bouler/Research_in_Shirts_Lab/advanced_sampling_tutorials/Chapter_1/sim_7\n",
      "Command line:\n",
      "  gmx_mpi grompp -f NaCl_umbrella.mdp -c NaCl_7.gro -r NaCl_7.gro -p NaCl_US.top -o NaCl_US.tpr -n NaCl.ndx -maxwarn 1\n",
      "\n",
      "Generating 1-4 interactions: fudge = 0.5\n",
      "Pull group 1 'NA' has 1 atoms\n",
      "Pull group 2 'CL' has 1 atoms\n",
      "Number of degrees of freedom in T-Coupling group System is 645.00\n",
      "\n",
      "NOTE 1 [file NaCl_umbrella.mdp]:\n",
      "  Removing center of mass motion in the presence of position restraints\n",
      "  might cause artifacts. When you are using position restraints to\n",
      "  equilibrate a macro-molecule, the artifacts are usually negligible.\n",
      "\n",
      "Pull group  natoms  pbc atom  distance at start  reference at t=0\n",
      "       1         1         0\n",
      "       2         1         0       0.596 nm          0.596 nm\n",
      "\n",
      "NOTE 2 [file NaCl_umbrella.mdp]:\n",
      "  The optimal PME mesh load for parallel simulations is below 0.5\n",
      "  and for highly parallel simulations between 0.25 and 0.33,\n",
      "  for higher performance, increase the cut-off and the PME grid spacing.\n",
      "\n",
      "\n",
      "\n",
      "There were 2 notes\n",
      "\n",
      "Back Off! I just backed up NaCl_US.tpr to ./#NaCl_US.tpr.2#\n",
      "\n",
      "GROMACS reminds you: \"The Internet?  We are not interested in it.\" (Bill Gates, 1993)\n",
      "\n",
      "          :-) GROMACS - gmx mdrun, 2022.5-dev-20230428-fdf57150ad (-:\n",
      "\n",
      "Executable:   /Users/Wei-TseHsu/pkgs/gromacs/2022.5_mpi/bin/gmx_mpi\n",
      "Data prefix:  /Users/Wei-TseHsu/pkgs/gromacs/2022.5_mpi\n",
      "Working dir:  /Users/Wei-TseHsu/Documents/Life_in_CU_Bouler/Research_in_Shirts_Lab/advanced_sampling_tutorials/Chapter_1/sim_7\n",
      "Command line:\n",
      "  gmx_mpi mdrun -deffnm NaCl_US -pf pullf.xvg -px pullx.xvg -ntomp 1\n",
      "\n",
      "Reading file NaCl_US.tpr, VERSION 2022.5-dev-20230428-fdf57150ad (single precision)\n",
      "Changing nstlist from 10 to 25, rlist from 0.607 to 0.67\n",
      "\n",
      "Using 1 MPI process\n",
      "starting mdrun 'NaCl in water'\n",
      "250000 steps,    500.0 ps.\n",
      "\n",
      "Writing final coordinates.\n",
      "\n",
      "               Core t (s)   Wall t (s)        (%)\n",
      "       Time:       36.779       36.779      100.0\n",
      "                 (ns/day)    (hour/ns)\n",
      "Performance:     1174.587        0.020\n",
      "\n",
      "GROMACS reminds you: \"I Smell Smoke From a Gun Named Extinction\" (Pixies)\n",
      "\n"
     ]
    }
   ],
   "source": [
    "%%bash\n",
    "source /Users/Wei-TseHsu/pkgs/gromacs/2022.5_mpi/bin/GMXRC  # You'll need to replace this with your path of GMXRC\n",
    "for i in {0..7}\n",
    "do\n",
    "    cp pull/NaCl_US.top sim_${i}/.    # Use the same top file as in the pulling simulation\n",
    "    cp pull/Na_posres.itp sim_${i}/.  # Copy over the itp file for position restraint\n",
    "    cp pull/NaCl.ndx sim_${i}/.       # This line is only needed for GROMACS with a version later than 2022\n",
    "    cp NaCl_umbrella.mdp sim_${i}/.   # All simulations use the same .mdp file, NaCl_umbrella.mdp\n",
    "    cd sim_${i}\n",
    "    mpirun -np 1 gmx_mpi grompp -f NaCl_umbrella.mdp -c NaCl_${i}.gro -r NaCl_${i}.gro -p NaCl_US.top -o NaCl_US.tpr -n NaCl.ndx -maxwarn 1  # Generate the tpr\n",
    "    mpirun -np 1 gmx_mpi mdrun -deffnm NaCl_US -pf pullf.xvg -px pullx.xvg -ntomp 1\n",
    "    cd ../\n",
    "done"
   ]
  },
  {
   "cell_type": "markdown",
   "id": "879e406b",
   "metadata": {
    "slideshow": {
     "slide_type": "-"
    }
   },
   "source": [
    "Then, we run the simulations of 8 windows in parallel using the `-multdir` flag as we did in the last exercise."
   ]
  },
  {
   "cell_type": "code",
   "execution_count": 27,
   "id": "913bc648",
   "metadata": {
    "slideshow": {
     "slide_type": "-"
    }
   },
   "outputs": [
    {
     "name": "stderr",
     "output_type": "stream",
     "text": [
      "--------------------------------------------------------------------------\n",
      "There are not enough slots available in the system to satisfy the 8\n",
      "slots that were requested by the application:\n",
      "\n",
      "  gmx_mpi\n",
      "\n",
      "Either request fewer slots for your application, or make more slots\n",
      "available for use.\n",
      "\n",
      "A \"slot\" is the Open MPI term for an allocatable unit where we can\n",
      "launch a process.  The number of slots available are defined by the\n",
      "environment in which Open MPI processes are run:\n",
      "\n",
      "  1. Hostfile, via \"slots=N\" clauses (N defaults to number of\n",
      "     processor cores if not provided)\n",
      "  2. The --host command line parameter, via a \":N\" suffix on the\n",
      "     hostname (N defaults to 1 if not provided)\n",
      "  3. Resource manager (e.g., SLURM, PBS/Torque, LSF, etc.)\n",
      "  4. If none of a hostfile, the --host command line parameter, or an\n",
      "     RM is present, Open MPI defaults to the number of processor cores\n",
      "\n",
      "In all the above cases, if you want Open MPI to default to the number\n",
      "of hardware threads instead of the number of processor cores, use the\n",
      "--use-hwthread-cpus option.\n",
      "\n",
      "Alternatively, you can use the --oversubscribe option to ignore the\n",
      "number of available slots when deciding the number of processes to\n",
      "launch.\n",
      "--------------------------------------------------------------------------\n"
     ]
    },
    {
     "ename": "CalledProcessError",
     "evalue": "Command 'b\"source /Users/Wei-TseHsu/pkgs/gromacs/2022.5_mpi/bin/GMXRC  # You'll need to replace this with your path of GMXRC\\nmpirun -np 8 gmx_mpi mdrun -deffnm NaCl_US -pf pullf.xvg -px pullx.xvg -multidir sim_{0..7} -ntomp 4\\n\"' returned non-zero exit status 1.",
     "output_type": "error",
     "traceback": [
      "\u001b[0;31m---------------------------------------------------------------------------\u001b[0m",
      "\u001b[0;31mCalledProcessError\u001b[0m                        Traceback (most recent call last)",
      "\u001b[0;32m<timed eval>\u001b[0m in \u001b[0;36m<module>\u001b[0;34m\u001b[0m\n",
      "\u001b[0;32m~/miniconda3/lib/python3.8/site-packages/IPython/core/interactiveshell.py\u001b[0m in \u001b[0;36mrun_cell_magic\u001b[0;34m(self, magic_name, line, cell)\u001b[0m\n\u001b[1;32m   2417\u001b[0m             \u001b[0;32mwith\u001b[0m \u001b[0mself\u001b[0m\u001b[0;34m.\u001b[0m\u001b[0mbuiltin_trap\u001b[0m\u001b[0;34m:\u001b[0m\u001b[0;34m\u001b[0m\u001b[0;34m\u001b[0m\u001b[0m\n\u001b[1;32m   2418\u001b[0m                 \u001b[0margs\u001b[0m \u001b[0;34m=\u001b[0m \u001b[0;34m(\u001b[0m\u001b[0mmagic_arg_s\u001b[0m\u001b[0;34m,\u001b[0m \u001b[0mcell\u001b[0m\u001b[0;34m)\u001b[0m\u001b[0;34m\u001b[0m\u001b[0;34m\u001b[0m\u001b[0m\n\u001b[0;32m-> 2419\u001b[0;31m                 \u001b[0mresult\u001b[0m \u001b[0;34m=\u001b[0m \u001b[0mfn\u001b[0m\u001b[0;34m(\u001b[0m\u001b[0;34m*\u001b[0m\u001b[0margs\u001b[0m\u001b[0;34m,\u001b[0m \u001b[0;34m**\u001b[0m\u001b[0mkwargs\u001b[0m\u001b[0;34m)\u001b[0m\u001b[0;34m\u001b[0m\u001b[0;34m\u001b[0m\u001b[0m\n\u001b[0m\u001b[1;32m   2420\u001b[0m             \u001b[0;32mreturn\u001b[0m \u001b[0mresult\u001b[0m\u001b[0;34m\u001b[0m\u001b[0;34m\u001b[0m\u001b[0m\n\u001b[1;32m   2421\u001b[0m \u001b[0;34m\u001b[0m\u001b[0m\n",
      "\u001b[0;32m~/miniconda3/lib/python3.8/site-packages/IPython/core/magics/script.py\u001b[0m in \u001b[0;36mnamed_script_magic\u001b[0;34m(line, cell)\u001b[0m\n\u001b[1;32m    140\u001b[0m             \u001b[0;32melse\u001b[0m\u001b[0;34m:\u001b[0m\u001b[0;34m\u001b[0m\u001b[0;34m\u001b[0m\u001b[0m\n\u001b[1;32m    141\u001b[0m                 \u001b[0mline\u001b[0m \u001b[0;34m=\u001b[0m \u001b[0mscript\u001b[0m\u001b[0;34m\u001b[0m\u001b[0;34m\u001b[0m\u001b[0m\n\u001b[0;32m--> 142\u001b[0;31m             \u001b[0;32mreturn\u001b[0m \u001b[0mself\u001b[0m\u001b[0;34m.\u001b[0m\u001b[0mshebang\u001b[0m\u001b[0;34m(\u001b[0m\u001b[0mline\u001b[0m\u001b[0;34m,\u001b[0m \u001b[0mcell\u001b[0m\u001b[0;34m)\u001b[0m\u001b[0;34m\u001b[0m\u001b[0;34m\u001b[0m\u001b[0m\n\u001b[0m\u001b[1;32m    143\u001b[0m \u001b[0;34m\u001b[0m\u001b[0m\n\u001b[1;32m    144\u001b[0m         \u001b[0;31m# write a basic docstring:\u001b[0m\u001b[0;34m\u001b[0m\u001b[0;34m\u001b[0m\u001b[0;34m\u001b[0m\u001b[0m\n",
      "\u001b[0;32m~/miniconda3/lib/python3.8/site-packages/decorator.py\u001b[0m in \u001b[0;36mfun\u001b[0;34m(*args, **kw)\u001b[0m\n\u001b[1;32m    230\u001b[0m             \u001b[0;32mif\u001b[0m \u001b[0;32mnot\u001b[0m \u001b[0mkwsyntax\u001b[0m\u001b[0;34m:\u001b[0m\u001b[0;34m\u001b[0m\u001b[0;34m\u001b[0m\u001b[0m\n\u001b[1;32m    231\u001b[0m                 \u001b[0margs\u001b[0m\u001b[0;34m,\u001b[0m \u001b[0mkw\u001b[0m \u001b[0;34m=\u001b[0m \u001b[0mfix\u001b[0m\u001b[0;34m(\u001b[0m\u001b[0margs\u001b[0m\u001b[0;34m,\u001b[0m \u001b[0mkw\u001b[0m\u001b[0;34m,\u001b[0m \u001b[0msig\u001b[0m\u001b[0;34m)\u001b[0m\u001b[0;34m\u001b[0m\u001b[0;34m\u001b[0m\u001b[0m\n\u001b[0;32m--> 232\u001b[0;31m             \u001b[0;32mreturn\u001b[0m \u001b[0mcaller\u001b[0m\u001b[0;34m(\u001b[0m\u001b[0mfunc\u001b[0m\u001b[0;34m,\u001b[0m \u001b[0;34m*\u001b[0m\u001b[0;34m(\u001b[0m\u001b[0mextras\u001b[0m \u001b[0;34m+\u001b[0m \u001b[0margs\u001b[0m\u001b[0;34m)\u001b[0m\u001b[0;34m,\u001b[0m \u001b[0;34m**\u001b[0m\u001b[0mkw\u001b[0m\u001b[0;34m)\u001b[0m\u001b[0;34m\u001b[0m\u001b[0;34m\u001b[0m\u001b[0m\n\u001b[0m\u001b[1;32m    233\u001b[0m     \u001b[0mfun\u001b[0m\u001b[0;34m.\u001b[0m\u001b[0m__name__\u001b[0m \u001b[0;34m=\u001b[0m \u001b[0mfunc\u001b[0m\u001b[0;34m.\u001b[0m\u001b[0m__name__\u001b[0m\u001b[0;34m\u001b[0m\u001b[0;34m\u001b[0m\u001b[0m\n\u001b[1;32m    234\u001b[0m     \u001b[0mfun\u001b[0m\u001b[0;34m.\u001b[0m\u001b[0m__doc__\u001b[0m \u001b[0;34m=\u001b[0m \u001b[0mfunc\u001b[0m\u001b[0;34m.\u001b[0m\u001b[0m__doc__\u001b[0m\u001b[0;34m\u001b[0m\u001b[0;34m\u001b[0m\u001b[0m\n",
      "\u001b[0;32m~/miniconda3/lib/python3.8/site-packages/IPython/core/magic.py\u001b[0m in \u001b[0;36m<lambda>\u001b[0;34m(f, *a, **k)\u001b[0m\n\u001b[1;32m    185\u001b[0m     \u001b[0;31m# but it's overkill for just that one bit of state.\u001b[0m\u001b[0;34m\u001b[0m\u001b[0;34m\u001b[0m\u001b[0;34m\u001b[0m\u001b[0m\n\u001b[1;32m    186\u001b[0m     \u001b[0;32mdef\u001b[0m \u001b[0mmagic_deco\u001b[0m\u001b[0;34m(\u001b[0m\u001b[0marg\u001b[0m\u001b[0;34m)\u001b[0m\u001b[0;34m:\u001b[0m\u001b[0;34m\u001b[0m\u001b[0;34m\u001b[0m\u001b[0m\n\u001b[0;32m--> 187\u001b[0;31m         \u001b[0mcall\u001b[0m \u001b[0;34m=\u001b[0m \u001b[0;32mlambda\u001b[0m \u001b[0mf\u001b[0m\u001b[0;34m,\u001b[0m \u001b[0;34m*\u001b[0m\u001b[0ma\u001b[0m\u001b[0;34m,\u001b[0m \u001b[0;34m**\u001b[0m\u001b[0mk\u001b[0m\u001b[0;34m:\u001b[0m \u001b[0mf\u001b[0m\u001b[0;34m(\u001b[0m\u001b[0;34m*\u001b[0m\u001b[0ma\u001b[0m\u001b[0;34m,\u001b[0m \u001b[0;34m**\u001b[0m\u001b[0mk\u001b[0m\u001b[0;34m)\u001b[0m\u001b[0;34m\u001b[0m\u001b[0;34m\u001b[0m\u001b[0m\n\u001b[0m\u001b[1;32m    188\u001b[0m \u001b[0;34m\u001b[0m\u001b[0m\n\u001b[1;32m    189\u001b[0m         \u001b[0;32mif\u001b[0m \u001b[0mcallable\u001b[0m\u001b[0;34m(\u001b[0m\u001b[0marg\u001b[0m\u001b[0;34m)\u001b[0m\u001b[0;34m:\u001b[0m\u001b[0;34m\u001b[0m\u001b[0;34m\u001b[0m\u001b[0m\n",
      "\u001b[0;32m~/miniconda3/lib/python3.8/site-packages/IPython/core/magics/script.py\u001b[0m in \u001b[0;36mshebang\u001b[0;34m(self, line, cell)\u001b[0m\n\u001b[1;32m    243\u001b[0m             \u001b[0msys\u001b[0m\u001b[0;34m.\u001b[0m\u001b[0mstderr\u001b[0m\u001b[0;34m.\u001b[0m\u001b[0mflush\u001b[0m\u001b[0;34m(\u001b[0m\u001b[0;34m)\u001b[0m\u001b[0;34m\u001b[0m\u001b[0;34m\u001b[0m\u001b[0m\n\u001b[1;32m    244\u001b[0m         \u001b[0;32mif\u001b[0m \u001b[0margs\u001b[0m\u001b[0;34m.\u001b[0m\u001b[0mraise_error\u001b[0m \u001b[0;32mand\u001b[0m \u001b[0mp\u001b[0m\u001b[0;34m.\u001b[0m\u001b[0mreturncode\u001b[0m\u001b[0;34m!=\u001b[0m\u001b[0;36m0\u001b[0m\u001b[0;34m:\u001b[0m\u001b[0;34m\u001b[0m\u001b[0;34m\u001b[0m\u001b[0m\n\u001b[0;32m--> 245\u001b[0;31m             \u001b[0;32mraise\u001b[0m \u001b[0mCalledProcessError\u001b[0m\u001b[0;34m(\u001b[0m\u001b[0mp\u001b[0m\u001b[0;34m.\u001b[0m\u001b[0mreturncode\u001b[0m\u001b[0;34m,\u001b[0m \u001b[0mcell\u001b[0m\u001b[0;34m,\u001b[0m \u001b[0moutput\u001b[0m\u001b[0;34m=\u001b[0m\u001b[0mout\u001b[0m\u001b[0;34m,\u001b[0m \u001b[0mstderr\u001b[0m\u001b[0;34m=\u001b[0m\u001b[0merr\u001b[0m\u001b[0;34m)\u001b[0m\u001b[0;34m\u001b[0m\u001b[0;34m\u001b[0m\u001b[0m\n\u001b[0m\u001b[1;32m    246\u001b[0m \u001b[0;34m\u001b[0m\u001b[0m\n\u001b[1;32m    247\u001b[0m     \u001b[0;32mdef\u001b[0m \u001b[0m_run_script\u001b[0m\u001b[0;34m(\u001b[0m\u001b[0mself\u001b[0m\u001b[0;34m,\u001b[0m \u001b[0mp\u001b[0m\u001b[0;34m,\u001b[0m \u001b[0mcell\u001b[0m\u001b[0;34m,\u001b[0m \u001b[0mto_close\u001b[0m\u001b[0;34m)\u001b[0m\u001b[0;34m:\u001b[0m\u001b[0;34m\u001b[0m\u001b[0;34m\u001b[0m\u001b[0m\n",
      "\u001b[0;31mCalledProcessError\u001b[0m: Command 'b\"source /Users/Wei-TseHsu/pkgs/gromacs/2022.5_mpi/bin/GMXRC  # You'll need to replace this with your path of GMXRC\\nmpirun -np 8 gmx_mpi mdrun -deffnm NaCl_US -pf pullf.xvg -px pullx.xvg -multidir sim_{0..7} -ntomp 4\\n\"' returned non-zero exit status 1."
     ]
    }
   ],
   "source": [
    "%%time\n",
    "%%bash\n",
    "source /Users/Wei-TseHsu/pkgs/gromacs/2022.5_mpi/bin/GMXRC  # You'll need to replace this with your path of GMXRC\n",
    "mpirun -np 8 gmx_mpi mdrun -deffnm NaCl_US -pf pullf.xvg -px pullx.xvg -multidir sim_{0..7} -ntomp 4"
   ]
  },
  {
   "cell_type": "markdown",
   "id": "c71e7030",
   "metadata": {
    "slideshow": {
     "slide_type": "-"
    }
   },
   "source": [
    "Same as the pulling simulation, a `pullx.xvg` file (and a `pullf.xvg` file) will be generated in each of the simulation folders. To check the overlap between umbrella windows, we plot the histogram of the pulling distance for each simulation. "
   ]
  },
  {
   "cell_type": "code",
   "execution_count": 28,
   "id": "2a74d0d0",
   "metadata": {
    "slideshow": {
     "slide_type": "-"
    }
   },
   "outputs": [],
   "source": [
    "import matplotlib.pyplot as plt\n",
    "from matplotlib import rc\n",
    "\n",
    "# Just some settings for plotting\n",
    "rc('font', **{\n",
    "    'family': 'sans-serif',\n",
    "    'sans-serif': ['DejaVu Sans'],\n",
    "    'size': 10,\n",
    "})\n",
    "# Set the font used for MathJax - more on thiprint(images)\n",
    "rc('mathtext', **{'default': 'regular'})\n",
    "plt.rc('font', family='serif')"
   ]
  },
  {
   "cell_type": "code",
   "execution_count": 29,
   "id": "cec152ee",
   "metadata": {
    "slideshow": {
     "slide_type": "-"
    }
   },
   "outputs": [
    {
     "data": {
      "image/png": "[encoded data removed]",
      "text/plain": [
       "<Figure size 576x216 with 1 Axes>"
      ]
     },
     "metadata": {
      "needs_background": "light"
     },
     "output_type": "display_data"
    }
   ],
   "source": [
    "pullx_data = [np.transpose(np.loadtxt(f'sim_{i}/pullx.xvg', comments=['@', '#'])) for i in range(8)]\n",
    "dist_list = [data[1] for data in pullx_data]\n",
    "\n",
    "plt.figure(figsize=(8, 3))\n",
    "for i in range(8):\n",
    "    plt.hist(dist_list[i], bins=50, alpha=0.5)\n",
    "plt.xlabel('Ion-pair distance (nm)')\n",
    "plt.ylabel('Count')\n",
    "plt.grid()"
   ]
  },
  {
   "cell_type": "markdown",
   "id": "a905a4b6",
   "metadata": {
    "slideshow": {
     "slide_type": "slide"
    }
   },
   "source": [
    "As shown above, there is always overlap between neighboring windows, indicating that a force constant of 8000 $\\mathrm{kJ/mol/nm^2}$ is reasonable. \n",
    "- If the force constant were too large, the spread of each distribution would have been too narrow, so there would be a risk of not having overlap between some of the neighboring replicas. \n",
    "- If the force constant were too small, it would be hard to keep the pull group at the desired center of the window. In this case, the pull group will drift to the metastable state, which could also lead to insufficient overlap. \n",
    "\n",
    "We will discuss this topic more in depth in Exercise 4, since this notebook has already been a little lengthy. 😃 "
   ]
  },
  {
   "cell_type": "markdown",
   "id": "6719e0e9",
   "metadata": {
    "slideshow": {
     "slide_type": "slide"
    }
   },
   "source": [
    "**Question 1**: How can we futher improve the overlap between neighboring distributions?"
   ]
  },
  {
   "cell_type": "markdown",
   "id": "187fd639",
   "metadata": {
    "slideshow": {
     "slide_type": "skip"
    }
   },
   "source": [
    "**Answer**: There are two possible workarounds:\n",
    "- Add one or more windows to the region where there is less overlap.\n",
    "- For the distribution drifting away from its desired center, we can increase the force constant for the corresponding harmonic potential so the configuration is better fixed. (Note that it is not required that we use the same force constant for all harmonic potentials.)"
   ]
  },
  {
   "cell_type": "markdown",
   "id": "171fcf10",
   "metadata": {
    "slideshow": {
     "slide_type": "slide"
    }
   },
   "source": [
    "## 3. Computation of the free energy surface using MBAR"
   ]
  },
  {
   "cell_type": "code",
   "execution_count": null,
   "id": "2991ac13",
   "metadata": {
    "scrolled": false,
    "slideshow": {
     "slide_type": "slide"
    }
   },
   "outputs": [],
   "source": [
    "import time\n",
    "import pymbar\n",
    "from pymbar import timeseries\n",
    "import random\n",
    "import scipy.stats\n",
    "\n",
    "t0 = time.time()\n",
    "\n",
    "# Step 1: Setting up\n",
    "K = 8                                       # number of umbrellas\n",
    "N_max = 5001                                # number of data points in each timeseries of ion-pair distance\n",
    "kT = 1.381e-23 * 6.022e23 / 1000 * 300      # 1 kT converted to kJ/mol at 300 K\n",
    "beta_k = np.ones(K) / kT                    # inverse temperature of simulations (in 1/(kJ/mol)) \n",
    "d_min, d_max = 0.25, 0.65                   # minimum and maximum of the CV for plotting the FES\n",
    "nbins = 50                                  # number of bins for FES\n",
    "K_k = np.ones(K) * 8000                     # spring constant (in kJ/mol/nm**2) for different simulations\n",
    "N_k, g_k = np.zeros(K, int), np.zeros(K)    # number of samples and statistical inefficiency of different simulations\n",
    "d_kn = np.zeros([K, N_max])                 # d_kn[k,n] is the ion-pair distance (in nm) for snapshot n from umbrella simulation k\n",
    "u_kn = np.zeros([K, N_max])                 # u_kn[k,n] is the reduced potential energy without umbrella restraints of snapshot n of umbrella simulation k\n",
    "uncorrelated_samples = []                   # Uncorrelated samples of different simulations\n",
    "\n",
    "# Step 2: Read in and subsample the timeseries\n",
    "for k in range(K):\n",
    "    d_kn[k] = np.transpose(np.loadtxt(f'sim_{k}/pullx.xvg', comments=['@', '#']))[1]\n",
    "    N_k[k] = len(d_kn[k])\n",
    "    d_temp = d_kn[k, 0:N_k[k]]\n",
    "    g_k[k] = timeseries.statistical_inefficiency(d_temp)     \n",
    "    print(f\"Statistical inefficiency of simulation {k}: {g_k[k]:.3f}\")\n",
    "    indices = timeseries.subsample_correlated_data(d_temp, g=g_k[k]) # indices of the uncorrelated samples\n",
    "    \n",
    "    # Update u_kn and d_kn with uncorrelated samples\n",
    "    N_k[k] = len(indices)    # At this point, N_k contains the number of uncorrelated samples for each state k                \n",
    "    u_kn[k, 0:N_k[k]] = u_kn[k, indices]\n",
    "    d_kn[k, 0:N_k[k]] = d_kn[k, indices]\n",
    "    uncorrelated_samples.append(d_kn[k, indices])\n",
    "\n",
    "d0_k = np.array([d_kn[i][0] for i in range(K)])    \n",
    "N_max = np.max(N_k) # shorten the array size\n",
    "u_kln = np.zeros([K, K, N_max]) # u_kln[k,l,n] is the reduced potential energy of snapshot n from umbrella simulation k evaluated at umbrella l\n",
    "u_kn -= u_kn.min()  # shift the minimum of the FES to 0\n",
    "\n",
    "# Step 3: Bin the data\n",
    "bin_center_i = np.zeros([nbins])\n",
    "bin_edges = np.linspace(d_min, d_max, nbins + 1)\n",
    "for i in range(nbins):\n",
    "    bin_center_i[i] = 0.5 * (bin_edges[i] + bin_edges[i + 1])\n",
    "   \n",
    "# Step 4: Evaluate reduced energies in all umbrellas\n",
    "for k in range(K):\n",
    "    for n in range(N_k[k]):\n",
    "        # Compute minimum-image ion-pair distance deviation from umbrella center l\n",
    "        dd = d_kn[k,n] - d0_k  # delta d\n",
    "\n",
    "        # Compute energy of snapshot n from simulation k in umbrella potential l\n",
    "        u_kln[k,:,n] = u_kn[k,n] + beta_k[k] * (K_k / 2) * dd ** 2\n",
    "\n",
    "# Step 5: Compute, output, and plot the FES\n",
    "fes = pymbar.FES(u_kln, N_k, verbose=False)\n",
    "histo_params = {'bin_edges': bin_edges}\n",
    "d_n = pymbar.utils.kn_to_n(d_kn, N_k=N_k)\n",
    "fes.generate_fes(u_kn, d_n, fes_type='histogram', histogram_parameters=histo_params)\n",
    "results = fes.get_fes(bin_center_i, reference_point=\"from-lowest\", uncertainty_method=\"analytical\")\n",
    "f_i = results[\"f_i\"]\n",
    "df_i = results[\"df_i\"]\n",
    "\n",
    "with open('fes.dat', 'w') as f:\n",
    "    f.write(\"# free energy profile (in units of kT), from histogramming\\n\")\n",
    "    f.write(f\"# {'bin':>8s} {'f':>8s} {'df':>8s} \\n\")\n",
    "    for i in range(nbins):\n",
    "       f.write(f\"{bin_center_i[i]:>8.3f} {f_i[i]:>8.3f} {df_i[i]:>8.3f} \\n\")\n",
    "\n",
    "plt.figure()\n",
    "plt.plot(bin_center_i, f_i)\n",
    "plt.fill_between(bin_center_i, f_i - df_i, f_i + df_i, color='lightgreen')\n",
    "plt.xlabel('Ion-pair distance (nm)')\n",
    "plt.ylabel('Free energy (kT)')\n",
    "plt.grid()\n",
    "\n",
    "t1 = time.time()\n",
    "print(f'\\nTime elapsed: {t1 - t0:.0f} seconds.')"
   ]
  },
  {
   "cell_type": "markdown",
   "id": "7e1e4c36",
   "metadata": {
    "slideshow": {
     "slide_type": "slide"
    }
   },
   "source": [
    "**Question 2**: Why is the uncertainty lower in some of the regions?"
   ]
  },
  {
   "cell_type": "markdown",
   "id": "f5d234d6",
   "metadata": {
    "slideshow": {
     "slide_type": "skip"
    }
   },
   "source": [
    "**Answer**: As shown above, the time series in different windows have different statistical inefficiencies/correlation times, hence different numbers of uncorrelated samples. Regions with a agreater number of uncorrelated samples typically have lower uncertainty, and vice versa."
   ]
  },
  {
   "cell_type": "code",
   "execution_count": null,
   "id": "d76bb097",
   "metadata": {
    "scrolled": true,
    "slideshow": {
     "slide_type": "fragment"
    }
   },
   "outputs": [],
   "source": [
    "plt.figure(figsize=(8, 3))\n",
    "for i in range(8):\n",
    "    plt.hist(uncorrelated_samples[i], bins=50, alpha=0.5)\n",
    "plt.xlabel('Ion-pair distance (nm)')\n",
    "plt.ylabel('Count')\n",
    "plt.grid()"
   ]
  },
  {
   "cell_type": "markdown",
   "id": "c6940335",
   "metadata": {
    "slideshow": {
     "slide_type": "slide"
    }
   },
   "source": [
    "## Reference(s)\n",
    "- The paper that proposed MBAR: [Shirts, Michael R., and John D. Chodera. \"Statistically optimal analysis of samples from multiple equilibrium states.\" The Journal of chemical physics 129.12 (2008): 124105.](https://aip.scitation.org/doi/abs/10.1063/1.2978177)\n",
    "- Another perspective of interpreting the theory of MBAR: [Shirts, Michael R. \"Reweighting from the mixture distribution as a better way to describe the Multistate Bennett Acceptance Ratio.\" arXiv preprint arXiv:1704.00891 (2017).](https://arxiv.org/abs/1704.00891)\n",
    "- A review about umbrella sampling: [Kästner, Johannes. \"Umbrella sampling.\" Wiley Interdisciplinary Reviews: Computational Molecular Science 1.6 (2011): 932-942.](https://doi.org/10.1002/wcms.66)"
   ]
  },
  {
   "cell_type": "markdown",
   "id": "e6f847cd",
   "metadata": {
    "slideshow": {
     "slide_type": "slide"
    }
   },
   "source": [
    "## Takeaways"
   ]
  },
  {
   "cell_type": "markdown",
   "id": "9a9c1fa9",
   "metadata": {
    "slideshow": {
     "slide_type": "fragment"
    }
   },
   "source": [
    "- Umbrella sampling is composed of 2 steps:\n",
    "  - Pulling simulation: A simulation that is used to generate configurations at different CV values.\n",
    "  - Production runs: A bunch of simulations that fix configurations at different CV values to force the exploration of the CV space."
   ]
  },
  {
   "cell_type": "markdown",
   "id": "7eda3ff0",
   "metadata": {
    "slideshow": {
     "slide_type": "fragment"
    }
   },
   "source": [
    "- The force constant for the pulling simulation does not really matter as long as it is strong enough to pull the pull group away.\n",
    "- The force constant for the productions should be large enough to pin down the configurations but small enough to have wide probability distributions for each configuration."
   ]
  },
  {
   "cell_type": "markdown",
   "id": "69c1a7c6",
   "metadata": {
    "slideshow": {
     "slide_type": "slide"
    }
   },
   "source": [
    "- We decorrelate samples before performing MBAR. \n",
    "- MBAR can estimate the free energy surface as a function of the chosen CV rigorously. "
   ]
  }
 ],
 "metadata": {
  "celltoolbar": "Slideshow",
  "kernelspec": {
   "display_name": "Python 3",
   "language": "python",
   "name": "python3"
  },
  "language_info": {
   "codemirror_mode": {
    "name": "ipython",
    "version": 3
   },
   "file_extension": ".py",
   "mimetype": "text/x-python",
   "name": "python",
   "nbconvert_exporter": "python",
   "pygments_lexer": "ipython3",
   "version": "3.8.12"
  }
 },
 "nbformat": 4,
 "nbformat_minor": 5
}
